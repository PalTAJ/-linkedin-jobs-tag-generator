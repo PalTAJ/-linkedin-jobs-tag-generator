{
 "cells": [
  {
   "cell_type": "code",
   "execution_count": 554,
   "id": "eeeea5bf",
   "metadata": {
    "ExecuteTime": {
     "end_time": "2021-10-28T21:30:21.021566Z",
     "start_time": "2021-10-28T21:30:21.004496Z"
    }
   },
   "outputs": [],
   "source": [
    "import pandas as pd  \n",
    "import os, sys, re \n",
    "import spacy\n",
    "\n",
    "\n",
    "import nltk, gensim\n",
    "from bs4 import BeautifulSoup\n",
    "from nltk.tokenize import ToktokTokenizer\n",
    "from nltk.stem import wordnet\n",
    "from nltk.corpus import stopwords\n",
    "from string import punctuation\n",
    "import emoji\n",
    "\n",
    "from sklearn.feature_extraction.text import TfidfVectorizer,CountVectorizer\n",
    "from sklearn.utils import shuffle\n",
    "from sklearn.cluster import MiniBatchKMeans\n",
    "from sklearn.decomposition import PCA\n",
    "import matplotlib.pyplot as plt\n",
    "\n",
    "from sklearn.metrics import homogeneity_score\n"
   ]
  },
  {
   "cell_type": "code",
   "execution_count": 555,
   "id": "3df91c47",
   "metadata": {
    "ExecuteTime": {
     "end_time": "2021-10-28T21:30:21.275509Z",
     "start_time": "2021-10-28T21:30:21.268497Z"
    }
   },
   "outputs": [],
   "source": [
    "def list_directories(path):\n",
    "    \"\"\"list files and directories in a given path\"\"\"\n",
    "    arr = os.listdir(path)\n",
    "    return arr"
   ]
  },
  {
   "cell_type": "code",
   "execution_count": 556,
   "id": "1aa3181e",
   "metadata": {
    "ExecuteTime": {
     "end_time": "2021-10-28T21:30:21.560150Z",
     "start_time": "2021-10-28T21:30:21.555957Z"
    }
   },
   "outputs": [
    {
     "data": {
      "text/plain": [
       "109"
      ]
     },
     "execution_count": 556,
     "metadata": {},
     "output_type": "execute_result"
    }
   ],
   "source": [
    "files = list_directories('data2')\n",
    "len(files)\n"
   ]
  },
  {
   "cell_type": "code",
   "execution_count": 524,
   "id": "2999b6af",
   "metadata": {
    "ExecuteTime": {
     "end_time": "2021-10-28T21:22:05.075396Z",
     "start_time": "2021-10-28T21:22:05.063365Z"
    }
   },
   "outputs": [
    {
     "data": {
      "text/plain": [
       "'Advertising & Public Relations'"
      ]
     },
     "execution_count": 524,
     "metadata": {},
     "output_type": "execute_result"
    }
   ],
   "source": [
    "files_names = []\n",
    "for f in files:\n",
    "    files_names.append(f.split('_')[:-2][0])\n",
    "len(files_names)  ## labels \n",
    "\n",
    "files_names[0]"
   ]
  },
  {
   "cell_type": "code",
   "execution_count": 525,
   "id": "15053b25",
   "metadata": {
    "ExecuteTime": {
     "end_time": "2021-10-28T21:22:06.068925Z",
     "start_time": "2021-10-28T21:22:05.394113Z"
    }
   },
   "outputs": [
    {
     "name": "stdout",
     "output_type": "stream",
     "text": [
      "16878\n"
     ]
    }
   ],
   "source": [
    "files_headlines = []\n",
    "for f in range(0,len(files),1): \n",
    "    df=pd.read_csv('data2/'+files[f])\n",
    "    for headline in list(df['job-title']):\n",
    "\n",
    "        files_headlines.append([ headline, files_names[f] ] )\n",
    "                             \n",
    "print(len(files_headlines))\n",
    "\n",
    "df = pd.DataFrame(files_headlines, columns = ['text', 'label'])\n",
    "df = shuffle(df)"
   ]
  },
  {
   "cell_type": "code",
   "execution_count": 526,
   "id": "22666b75",
   "metadata": {
    "ExecuteTime": {
     "end_time": "2021-10-28T21:22:06.384803Z",
     "start_time": "2021-10-28T21:22:06.366074Z"
    }
   },
   "outputs": [
    {
     "data": {
      "text/html": [
       "<div>\n",
       "<style scoped>\n",
       "    .dataframe tbody tr th:only-of-type {\n",
       "        vertical-align: middle;\n",
       "    }\n",
       "\n",
       "    .dataframe tbody tr th {\n",
       "        vertical-align: top;\n",
       "    }\n",
       "\n",
       "    .dataframe thead th {\n",
       "        text-align: right;\n",
       "    }\n",
       "</style>\n",
       "<table border=\"1\" class=\"dataframe\">\n",
       "  <thead>\n",
       "    <tr style=\"text-align: right;\">\n",
       "      <th></th>\n",
       "      <th>text</th>\n",
       "      <th>label</th>\n",
       "    </tr>\n",
       "  </thead>\n",
       "  <tbody>\n",
       "    <tr>\n",
       "      <th>1984</th>\n",
       "      <td>Digital Media Coordinator</td>\n",
       "      <td>English Language &amp; Literature</td>\n",
       "    </tr>\n",
       "    <tr>\n",
       "      <th>8386</th>\n",
       "      <td>Telephonic Medical Assistant</td>\n",
       "      <td>Medical Assisting Services</td>\n",
       "    </tr>\n",
       "    <tr>\n",
       "      <th>12341</th>\n",
       "      <td>Academic Planning Specialist</td>\n",
       "      <td>General Education</td>\n",
       "    </tr>\n",
       "    <tr>\n",
       "      <th>9670</th>\n",
       "      <td>Online Technology Intern</td>\n",
       "      <td>Computer Programming &amp; Data Processing</td>\n",
       "    </tr>\n",
       "    <tr>\n",
       "      <th>13847</th>\n",
       "      <td>Chief of Staff, Office Engineering</td>\n",
       "      <td>Engineering</td>\n",
       "    </tr>\n",
       "  </tbody>\n",
       "</table>\n",
       "</div>"
      ],
      "text/plain": [
       "                                     text  \\\n",
       "1984            Digital Media Coordinator   \n",
       "8386         Telephonic Medical Assistant   \n",
       "12341        Academic Planning Specialist   \n",
       "9670             Online Technology Intern   \n",
       "13847  Chief of Staff, Office Engineering   \n",
       "\n",
       "                                        label  \n",
       "1984            English Language & Literature  \n",
       "8386               Medical Assisting Services  \n",
       "12341                       General Education  \n",
       "9670   Computer Programming & Data Processing  \n",
       "13847                             Engineering  "
      ]
     },
     "execution_count": 526,
     "metadata": {},
     "output_type": "execute_result"
    }
   ],
   "source": [
    "df.head()"
   ]
  },
  {
   "cell_type": "code",
   "execution_count": null,
   "id": "57bcc2c9",
   "metadata": {
    "ExecuteTime": {
     "end_time": "2021-10-28T14:40:39.121774Z",
     "start_time": "2021-10-28T14:40:38.793931Z"
    }
   },
   "outputs": [],
   "source": []
  },
  {
   "cell_type": "code",
   "execution_count": 527,
   "id": "f28f8843",
   "metadata": {
    "ExecuteTime": {
     "end_time": "2021-10-28T21:22:07.934351Z",
     "start_time": "2021-10-28T21:22:07.901024Z"
    }
   },
   "outputs": [],
   "source": [
    "df.to_csv('clustering_jobs_data.csv',encoding='utf-8', index=False)"
   ]
  },
  {
   "cell_type": "code",
   "execution_count": 528,
   "id": "ccca77e3",
   "metadata": {
    "ExecuteTime": {
     "end_time": "2021-10-28T21:22:08.908090Z",
     "start_time": "2021-10-28T21:22:08.593464Z"
    }
   },
   "outputs": [],
   "source": [
    "top_tags = []\n",
    "\n",
    "def list_directories(path):\n",
    "    \"\"\"list files and directories in a given path\"\"\"\n",
    "    arr = os.listdir(path)\n",
    "    return arr\n",
    "\n",
    "\n",
    "def clean_text(text):\n",
    "    ''' Lowering text and removing undesirable marks\n",
    "    '''\n",
    "    \n",
    "    text = text.lower()\n",
    "    text = re.sub(r\"\\'\\n\", \" \", text)\n",
    "    text = re.sub(r\"\\'\\xa0\", \" \", text)\n",
    "    text = re.sub('\\s+', ' ', text) # matches all whitespace characters\n",
    "    text = text.strip(' ')\n",
    "    return text\n",
    "    \n",
    "\n",
    "token = ToktokTokenizer()\n",
    "punct = punctuation\n",
    "    \n",
    "def strip_list_noempty(mylist):\n",
    "    \n",
    "    newlist = (item.strip() if hasattr(item, 'strip') else item for item in mylist)\n",
    "    return [item for item in newlist if item != '']\n",
    "    \n",
    "    \n",
    "def clean_punct(text): \n",
    "    ''' Remove punctuations'''\n",
    "    \n",
    "    words = token.tokenize(text)\n",
    "    punctuation_filtered = []\n",
    "    regex = re.compile('[%s]' % re.escape(punct))\n",
    "    remove_punctuation = str.maketrans(' ', ' ', punct)\n",
    "    \n",
    "    for w in words:\n",
    "        if w in top_tags:\n",
    "            punctuation_filtered.append(w)\n",
    "        else:\n",
    "            w = re.sub('^[0-9]*', \" \", w)\n",
    "            punctuation_filtered.append(regex.sub('', w))\n",
    "  \n",
    "    filtered_list = strip_list_noempty(punctuation_filtered)\n",
    "        \n",
    "    return ' '.join(map(str, filtered_list))\n",
    "\n",
    "\n",
    "stop_words = set(stopwords.words(\"english\"))\n",
    "\n",
    "def stopWordsRemove(text):\n",
    "    ''' Removing all the english stop words from a corpus\n",
    "    Parameter:\n",
    "    text: corpus to remove stop words from it\n",
    "    '''\n",
    "\n",
    "    words = token.tokenize(text)\n",
    "    filtered = [w for w in words if not w in stop_words]\n",
    "    \n",
    "    return ' '.join(map(str, filtered))\n",
    "    \n",
    "    \n",
    "nlp = spacy.load('en_core_web_sm', disable=['parser', 'ner'])\n",
    "\n",
    "def lemmatization(texts, allowed_postags, stop_words=stop_words):\n",
    "    ''' It keeps the lemma of the words (lemma is the uninflected form of a word),\n",
    "    and deletes the underired POS tags\n",
    "    \n",
    "    Parameters:\n",
    "    \n",
    "    texts (list): text to lemmatize\n",
    "    allowed_postags (list): list of allowed postags, like NOUN, ADL, VERB, ADV\n",
    "    '''\n",
    "    lemma = wordnet.WordNetLemmatizer()       \n",
    "    doc = nlp(texts) \n",
    "    texts_out = []\n",
    "    \n",
    "    for token in doc:\n",
    "        \n",
    "        if str(token) in top_tags:\n",
    "            texts_out.append(str(token))\n",
    "            \n",
    "        elif token.pos_ in allowed_postags:\n",
    "            \n",
    "            if token.lemma_ not in ['-PRON-']:\n",
    "                texts_out.append(token.lemma_)\n",
    "                \n",
    "            else:\n",
    "                texts_out.append('')\n",
    "     \n",
    "    texts_out = ' '.join(texts_out)\n",
    "\n",
    "    return texts_out\n",
    "    \n",
    "    \n",
    "def strip_emoji(text):\n",
    "#     print(emoji.emoji_count(text))\n",
    "    new_text = re.sub(emoji.get_emoji_regexp(), r\"\", text)\n",
    "    return new_text\n",
    "\n",
    "\n",
    "\n",
    "def preprocess_text(df,column='job-title'):\n",
    "    \n",
    "    df[column] = df[column].apply(lambda x: clean_text(x))\n",
    "    df[column] = df[column].apply(lambda x:  BeautifulSoup(x).get_text())\n",
    "    df[column] = df[column].apply(lambda x: strip_emoji(x))\n",
    "\n",
    "    df[column] = df[column].apply(lambda x: clean_punct(x)) \n",
    "#     df[column] = df[column].apply(lambda x: stopWordsRemove(x)) \n",
    "#     df[column] = df[column].apply(lambda x: lemmatization(x, ['NOUN', 'ADV']))\n",
    "\n",
    "    return df\n",
    "\n",
    "def generate_tags(df,column='description'):\n",
    "    \n",
    "    countVec =CountVectorizer(ngram_range=(1,5))\n",
    "    cv = countVec.fit_transform(df[column].str.lower())\n",
    "    cv_feature_names = countVec.get_feature_names()\n",
    "    feature_count = cv.toarray().sum(axis = 0)\n",
    "    feature_count = sorted(dict(zip(cv_feature_names, feature_count)).items(), key=lambda item: item[1])[::-1][:50]\n",
    "\n",
    "    return feature_count"
   ]
  },
  {
   "cell_type": "code",
   "execution_count": 529,
   "id": "fb6ce247",
   "metadata": {
    "ExecuteTime": {
     "end_time": "2021-10-28T21:22:10.959292Z",
     "start_time": "2021-10-28T21:22:10.951827Z"
    }
   },
   "outputs": [],
   "source": [
    "# df = preprocess_text(df,column='text')\n"
   ]
  },
  {
   "cell_type": "code",
   "execution_count": 530,
   "id": "7d1b801c",
   "metadata": {
    "ExecuteTime": {
     "end_time": "2021-10-28T21:22:11.476183Z",
     "start_time": "2021-10-28T21:22:11.292951Z"
    }
   },
   "outputs": [],
   "source": [
    "vec = TfidfVectorizer(stop_words=\"english\")\n",
    "vec.fit(df.text.values)\n",
    "features = vec.transform(df.text.values)"
   ]
  },
  {
   "cell_type": "code",
   "execution_count": null,
   "id": "4001176a",
   "metadata": {
    "ExecuteTime": {
     "end_time": "2021-10-28T14:09:22.826173Z",
     "start_time": "2021-10-28T14:09:22.718138Z"
    }
   },
   "outputs": [],
   "source": []
  },
  {
   "cell_type": "code",
   "execution_count": null,
   "id": "dd4dd803",
   "metadata": {
    "ExecuteTime": {
     "end_time": "2021-10-28T14:33:10.538263Z",
     "start_time": "2021-10-28T14:33:07.139262Z"
    }
   },
   "outputs": [],
   "source": []
  },
  {
   "cell_type": "code",
   "execution_count": 536,
   "id": "ea606f33",
   "metadata": {
    "ExecuteTime": {
     "end_time": "2021-10-28T21:27:03.456743Z",
     "start_time": "2021-10-28T21:27:03.448495Z"
    }
   },
   "outputs": [],
   "source": []
  },
  {
   "cell_type": "code",
   "execution_count": 543,
   "id": "b9aae9a3",
   "metadata": {
    "ExecuteTime": {
     "end_time": "2021-10-28T21:28:13.079766Z",
     "start_time": "2021-10-28T21:28:07.417895Z"
    }
   },
   "outputs": [
    {
     "data": {
      "image/png": "[encoded data removed]",
      "text/plain": [
       "<Figure size 432x288 with 1 Axes>"
      ]
     },
     "metadata": {
      "needs_background": "light"
     },
     "output_type": "display_data"
    },
    {
     "name": "stdout",
     "output_type": "stream",
     "text": [
      "0.2057268354171787\n"
     ]
    }
   ],
   "source": [
    "random_state = 0 \n",
    "cls = MiniBatchKMeans(n_clusters=30,random_state=random_state)\n",
    "cls.fit(features)\n",
    "\n",
    "# predict cluster labels for new dataset\n",
    "cls.predict(features)\n",
    "\n",
    "# to get cluster labels for the dataset used while\n",
    "# training the model (used for models that does not\n",
    "# support prediction on new dataset).\n",
    "cls.labels_\n",
    "# reduce the features to 2D\n",
    "pca = PCA(n_components=2, random_state=random_state)\n",
    "reduced_features = pca.fit_transform(features.toarray())\n",
    "\n",
    "# reduce the cluster centers to 2D\n",
    "reduced_cluster_centers = pca.transform(cls.cluster_centers_)\n",
    "\n",
    "plt.scatter(reduced_features[:,0], reduced_features[:,1], c=cls.predict(features))\n",
    "plt.scatter(reduced_cluster_centers[:, 0], reduced_cluster_centers[:,1], marker='x', s=150, c='b')\n",
    "plt.show()\n",
    "print(homogeneity_score(df.label, cls.predict(features)))"
   ]
  },
  {
   "cell_type": "code",
   "execution_count": 544,
   "id": "f243eb9e",
   "metadata": {
    "ExecuteTime": {
     "end_time": "2021-10-28T21:28:13.085444Z",
     "start_time": "2021-10-28T21:28:13.081382Z"
    }
   },
   "outputs": [
    {
     "data": {
      "text/plain": [
       "16878"
      ]
     },
     "execution_count": 544,
     "metadata": {},
     "output_type": "execute_result"
    }
   ],
   "source": [
    "len(list(cls.labels_))\n"
   ]
  },
  {
   "cell_type": "code",
   "execution_count": 545,
   "id": "d6465259",
   "metadata": {
    "ExecuteTime": {
     "end_time": "2021-10-28T21:28:13.107977Z",
     "start_time": "2021-10-28T21:28:13.086766Z"
    }
   },
   "outputs": [
    {
     "data": {
      "text/plain": [
       "16878"
      ]
     },
     "execution_count": 545,
     "metadata": {},
     "output_type": "execute_result"
    }
   ],
   "source": [
    "\n",
    "pred_labels = list(list(cls.labels_))\n",
    "df_labels = list(df['text'])\n",
    "\n",
    "collection = list(zip(df_labels,pred_labels))\n",
    "len(collection)"
   ]
  },
  {
   "cell_type": "code",
   "execution_count": 546,
   "id": "1954f333",
   "metadata": {
    "ExecuteTime": {
     "end_time": "2021-10-28T21:28:13.188373Z",
     "start_time": "2021-10-28T21:28:13.109199Z"
    }
   },
   "outputs": [
    {
     "name": "stdout",
     "output_type": "stream",
     "text": [
      "cluster 0 has 4690 headline\n",
      "cluster 1 has 388 headline\n",
      "cluster 2 has 443 headline\n",
      "cluster 3 has 739 headline\n",
      "cluster 4 has 746 headline\n",
      "cluster 5 has 1287 headline\n",
      "cluster 6 has 928 headline\n",
      "cluster 7 has 92 headline\n",
      "cluster 8 has 395 headline\n",
      "cluster 9 has 594 headline\n",
      "cluster 10 has 2 headline\n",
      "cluster 11 has 1311 headline\n",
      "cluster 12 has 99 headline\n",
      "cluster 13 has 220 headline\n",
      "cluster 14 has 690 headline\n",
      "cluster 15 has 92 headline\n",
      "cluster 16 has 209 headline\n",
      "cluster 17 has 455 headline\n",
      "cluster 18 has 123 headline\n",
      "cluster 19 has 517 headline\n",
      "cluster 20 has 101 headline\n",
      "cluster 21 has 34 headline\n",
      "cluster 22 has 60 headline\n",
      "cluster 23 has 194 headline\n",
      "cluster 24 has 741 headline\n",
      "cluster 25 has 106 headline\n",
      "cluster 26 has 393 headline\n",
      "cluster 27 has 188 headline\n",
      "cluster 28 has 859 headline\n",
      "cluster 29 has 182 headline\n",
      "16878\n"
     ]
    }
   ],
   "source": [
    "groups =pd.DataFrame(collection,columns=['job-title','cluster'])\n",
    "c = 0\n",
    "for i in range(0,30,1):    \n",
    "    temp = groups[groups['cluster'] == i]\n",
    "    temp.to_csv(f'clusters/cluster{i}.csv',encoding='utf-8', index=False)\n",
    "    print(f'cluster {i} has {len(temp)} headline')\n",
    "    c+=len(temp)\n",
    "\n",
    "print(c)"
   ]
  },
  {
   "cell_type": "code",
   "execution_count": 552,
   "id": "3f870687",
   "metadata": {
    "ExecuteTime": {
     "end_time": "2021-10-28T21:29:12.514600Z",
     "start_time": "2021-10-28T21:29:12.503100Z"
    }
   },
   "outputs": [
    {
     "data": {
      "text/html": [
       "<div>\n",
       "<style scoped>\n",
       "    .dataframe tbody tr th:only-of-type {\n",
       "        vertical-align: middle;\n",
       "    }\n",
       "\n",
       "    .dataframe tbody tr th {\n",
       "        vertical-align: top;\n",
       "    }\n",
       "\n",
       "    .dataframe thead th {\n",
       "        text-align: right;\n",
       "    }\n",
       "</style>\n",
       "<table border=\"1\" class=\"dataframe\">\n",
       "  <thead>\n",
       "    <tr style=\"text-align: right;\">\n",
       "      <th></th>\n",
       "      <th>job-title</th>\n",
       "      <th>cluster</th>\n",
       "    </tr>\n",
       "  </thead>\n",
       "  <tbody>\n",
       "    <tr>\n",
       "      <th>306</th>\n",
       "      <td>Math Teacher/Mentor</td>\n",
       "      <td>22</td>\n",
       "    </tr>\n",
       "    <tr>\n",
       "      <th>483</th>\n",
       "      <td>Math and Science Teacher Mentor</td>\n",
       "      <td>22</td>\n",
       "    </tr>\n",
       "    <tr>\n",
       "      <th>1138</th>\n",
       "      <td>Math Teacher/Mentor</td>\n",
       "      <td>22</td>\n",
       "    </tr>\n",
       "    <tr>\n",
       "      <th>1246</th>\n",
       "      <td>Math and Science Teacher Mentor</td>\n",
       "      <td>22</td>\n",
       "    </tr>\n",
       "    <tr>\n",
       "      <th>1382</th>\n",
       "      <td>Math Teacher Mentor</td>\n",
       "      <td>22</td>\n",
       "    </tr>\n",
       "    <tr>\n",
       "      <th>1621</th>\n",
       "      <td>Math and Science Teacher</td>\n",
       "      <td>22</td>\n",
       "    </tr>\n",
       "    <tr>\n",
       "      <th>2504</th>\n",
       "      <td>Math Teacher Mentor</td>\n",
       "      <td>22</td>\n",
       "    </tr>\n",
       "    <tr>\n",
       "      <th>2567</th>\n",
       "      <td>Math Teacher Mentor</td>\n",
       "      <td>22</td>\n",
       "    </tr>\n",
       "    <tr>\n",
       "      <th>2673</th>\n",
       "      <td>Math Teacher Mentor</td>\n",
       "      <td>22</td>\n",
       "    </tr>\n",
       "    <tr>\n",
       "      <th>2898</th>\n",
       "      <td>Math and Science Teacher Mentor</td>\n",
       "      <td>22</td>\n",
       "    </tr>\n",
       "    <tr>\n",
       "      <th>3305</th>\n",
       "      <td>Science Teacher Mentor</td>\n",
       "      <td>22</td>\n",
       "    </tr>\n",
       "    <tr>\n",
       "      <th>3310</th>\n",
       "      <td>Math &amp; Science Instructor</td>\n",
       "      <td>22</td>\n",
       "    </tr>\n",
       "    <tr>\n",
       "      <th>3906</th>\n",
       "      <td>Math Teacher Mentor</td>\n",
       "      <td>22</td>\n",
       "    </tr>\n",
       "    <tr>\n",
       "      <th>4149</th>\n",
       "      <td>Math and Science Teacher Mentor</td>\n",
       "      <td>22</td>\n",
       "    </tr>\n",
       "    <tr>\n",
       "      <th>4236</th>\n",
       "      <td>Math Teacher Mentor</td>\n",
       "      <td>22</td>\n",
       "    </tr>\n",
       "    <tr>\n",
       "      <th>4651</th>\n",
       "      <td>Math and Science Teacher Mentor</td>\n",
       "      <td>22</td>\n",
       "    </tr>\n",
       "    <tr>\n",
       "      <th>4808</th>\n",
       "      <td>Math and Science Teacher Mentor</td>\n",
       "      <td>22</td>\n",
       "    </tr>\n",
       "    <tr>\n",
       "      <th>5166</th>\n",
       "      <td>Math and Science Teacher</td>\n",
       "      <td>22</td>\n",
       "    </tr>\n",
       "    <tr>\n",
       "      <th>5200</th>\n",
       "      <td>Math Teacher Mentor</td>\n",
       "      <td>22</td>\n",
       "    </tr>\n",
       "    <tr>\n",
       "      <th>5270</th>\n",
       "      <td>Math Teacher Mentor</td>\n",
       "      <td>22</td>\n",
       "    </tr>\n",
       "    <tr>\n",
       "      <th>5374</th>\n",
       "      <td>Math Teacher Mentor</td>\n",
       "      <td>22</td>\n",
       "    </tr>\n",
       "    <tr>\n",
       "      <th>5635</th>\n",
       "      <td>Math and Science Teacher</td>\n",
       "      <td>22</td>\n",
       "    </tr>\n",
       "    <tr>\n",
       "      <th>5749</th>\n",
       "      <td>Math Teacher Mentor</td>\n",
       "      <td>22</td>\n",
       "    </tr>\n",
       "    <tr>\n",
       "      <th>5976</th>\n",
       "      <td>Math and Science Teacher Mentor</td>\n",
       "      <td>22</td>\n",
       "    </tr>\n",
       "    <tr>\n",
       "      <th>6315</th>\n",
       "      <td>Math Teacher Mentor</td>\n",
       "      <td>22</td>\n",
       "    </tr>\n",
       "    <tr>\n",
       "      <th>7212</th>\n",
       "      <td>Math and Science Teacher Mentor</td>\n",
       "      <td>22</td>\n",
       "    </tr>\n",
       "    <tr>\n",
       "      <th>7441</th>\n",
       "      <td>Math and Science Teacher Mentor</td>\n",
       "      <td>22</td>\n",
       "    </tr>\n",
       "    <tr>\n",
       "      <th>8078</th>\n",
       "      <td>Science Teacher Mentor</td>\n",
       "      <td>22</td>\n",
       "    </tr>\n",
       "    <tr>\n",
       "      <th>8438</th>\n",
       "      <td>Science Teacher Mentor</td>\n",
       "      <td>22</td>\n",
       "    </tr>\n",
       "    <tr>\n",
       "      <th>8947</th>\n",
       "      <td>Math and Science Teacher Mentor</td>\n",
       "      <td>22</td>\n",
       "    </tr>\n",
       "    <tr>\n",
       "      <th>9241</th>\n",
       "      <td>Math and Science Teacher Mentor</td>\n",
       "      <td>22</td>\n",
       "    </tr>\n",
       "    <tr>\n",
       "      <th>9325</th>\n",
       "      <td>Teacher (Math/Science)</td>\n",
       "      <td>22</td>\n",
       "    </tr>\n",
       "    <tr>\n",
       "      <th>9856</th>\n",
       "      <td>Math and Science Teacher Mentor</td>\n",
       "      <td>22</td>\n",
       "    </tr>\n",
       "    <tr>\n",
       "      <th>10197</th>\n",
       "      <td>Math and Science Teacher Mentor</td>\n",
       "      <td>22</td>\n",
       "    </tr>\n",
       "    <tr>\n",
       "      <th>10210</th>\n",
       "      <td>Teacher Mentor</td>\n",
       "      <td>22</td>\n",
       "    </tr>\n",
       "    <tr>\n",
       "      <th>10271</th>\n",
       "      <td>Math Teacher Mentor</td>\n",
       "      <td>22</td>\n",
       "    </tr>\n",
       "    <tr>\n",
       "      <th>10638</th>\n",
       "      <td>Math and Science Teacher Mentor</td>\n",
       "      <td>22</td>\n",
       "    </tr>\n",
       "    <tr>\n",
       "      <th>10689</th>\n",
       "      <td>Science Teacher Mentor</td>\n",
       "      <td>22</td>\n",
       "    </tr>\n",
       "    <tr>\n",
       "      <th>11450</th>\n",
       "      <td>Science Teacher Mentor</td>\n",
       "      <td>22</td>\n",
       "    </tr>\n",
       "    <tr>\n",
       "      <th>11455</th>\n",
       "      <td>Texas - Math Teacher Mentor</td>\n",
       "      <td>22</td>\n",
       "    </tr>\n",
       "    <tr>\n",
       "      <th>12005</th>\n",
       "      <td>Science Teacher Mentor</td>\n",
       "      <td>22</td>\n",
       "    </tr>\n",
       "    <tr>\n",
       "      <th>12051</th>\n",
       "      <td>Math and Science Teacher Mentor</td>\n",
       "      <td>22</td>\n",
       "    </tr>\n",
       "    <tr>\n",
       "      <th>12142</th>\n",
       "      <td>Math Teacher Mentor</td>\n",
       "      <td>22</td>\n",
       "    </tr>\n",
       "    <tr>\n",
       "      <th>12372</th>\n",
       "      <td>Math Teacher Mentor</td>\n",
       "      <td>22</td>\n",
       "    </tr>\n",
       "    <tr>\n",
       "      <th>12373</th>\n",
       "      <td>Math and Science Teacher Mentor</td>\n",
       "      <td>22</td>\n",
       "    </tr>\n",
       "    <tr>\n",
       "      <th>12828</th>\n",
       "      <td>Math and Science Teacher Mentor</td>\n",
       "      <td>22</td>\n",
       "    </tr>\n",
       "    <tr>\n",
       "      <th>13716</th>\n",
       "      <td>Math and Science Teacher Mentor</td>\n",
       "      <td>22</td>\n",
       "    </tr>\n",
       "    <tr>\n",
       "      <th>13776</th>\n",
       "      <td>Math and Science Teacher Mentor</td>\n",
       "      <td>22</td>\n",
       "    </tr>\n",
       "    <tr>\n",
       "      <th>14090</th>\n",
       "      <td>Math and Science Teacher Mentor</td>\n",
       "      <td>22</td>\n",
       "    </tr>\n",
       "    <tr>\n",
       "      <th>14188</th>\n",
       "      <td>Teacher (Math/Science)</td>\n",
       "      <td>22</td>\n",
       "    </tr>\n",
       "    <tr>\n",
       "      <th>14202</th>\n",
       "      <td>Math and Science Teacher Mentor</td>\n",
       "      <td>22</td>\n",
       "    </tr>\n",
       "    <tr>\n",
       "      <th>14329</th>\n",
       "      <td>Math and Science Teacher Mentor</td>\n",
       "      <td>22</td>\n",
       "    </tr>\n",
       "    <tr>\n",
       "      <th>14457</th>\n",
       "      <td>Math and Science Teacher Mentor</td>\n",
       "      <td>22</td>\n",
       "    </tr>\n",
       "    <tr>\n",
       "      <th>14559</th>\n",
       "      <td>Science Teacher Mentor</td>\n",
       "      <td>22</td>\n",
       "    </tr>\n",
       "    <tr>\n",
       "      <th>14633</th>\n",
       "      <td>Math Teacher Mentor</td>\n",
       "      <td>22</td>\n",
       "    </tr>\n",
       "    <tr>\n",
       "      <th>14812</th>\n",
       "      <td>Math Teacher Mentor</td>\n",
       "      <td>22</td>\n",
       "    </tr>\n",
       "    <tr>\n",
       "      <th>15450</th>\n",
       "      <td>Math and Science Teacher</td>\n",
       "      <td>22</td>\n",
       "    </tr>\n",
       "    <tr>\n",
       "      <th>15651</th>\n",
       "      <td>Math Teacher Mentor</td>\n",
       "      <td>22</td>\n",
       "    </tr>\n",
       "    <tr>\n",
       "      <th>16466</th>\n",
       "      <td>Math Teacher Mentor</td>\n",
       "      <td>22</td>\n",
       "    </tr>\n",
       "    <tr>\n",
       "      <th>16548</th>\n",
       "      <td>Math &amp; Science Teacher/Mentor</td>\n",
       "      <td>22</td>\n",
       "    </tr>\n",
       "  </tbody>\n",
       "</table>\n",
       "</div>"
      ],
      "text/plain": [
       "                             job-title  cluster\n",
       "306                Math Teacher/Mentor       22\n",
       "483    Math and Science Teacher Mentor       22\n",
       "1138               Math Teacher/Mentor       22\n",
       "1246   Math and Science Teacher Mentor       22\n",
       "1382               Math Teacher Mentor       22\n",
       "1621          Math and Science Teacher       22\n",
       "2504               Math Teacher Mentor       22\n",
       "2567               Math Teacher Mentor       22\n",
       "2673               Math Teacher Mentor       22\n",
       "2898   Math and Science Teacher Mentor       22\n",
       "3305            Science Teacher Mentor       22\n",
       "3310         Math & Science Instructor       22\n",
       "3906               Math Teacher Mentor       22\n",
       "4149   Math and Science Teacher Mentor       22\n",
       "4236               Math Teacher Mentor       22\n",
       "4651   Math and Science Teacher Mentor       22\n",
       "4808   Math and Science Teacher Mentor       22\n",
       "5166          Math and Science Teacher       22\n",
       "5200               Math Teacher Mentor       22\n",
       "5270               Math Teacher Mentor       22\n",
       "5374               Math Teacher Mentor       22\n",
       "5635          Math and Science Teacher       22\n",
       "5749               Math Teacher Mentor       22\n",
       "5976   Math and Science Teacher Mentor       22\n",
       "6315               Math Teacher Mentor       22\n",
       "7212   Math and Science Teacher Mentor       22\n",
       "7441   Math and Science Teacher Mentor       22\n",
       "8078            Science Teacher Mentor       22\n",
       "8438            Science Teacher Mentor       22\n",
       "8947   Math and Science Teacher Mentor       22\n",
       "9241   Math and Science Teacher Mentor       22\n",
       "9325            Teacher (Math/Science)       22\n",
       "9856   Math and Science Teacher Mentor       22\n",
       "10197  Math and Science Teacher Mentor       22\n",
       "10210                   Teacher Mentor       22\n",
       "10271              Math Teacher Mentor       22\n",
       "10638  Math and Science Teacher Mentor       22\n",
       "10689           Science Teacher Mentor       22\n",
       "11450           Science Teacher Mentor       22\n",
       "11455      Texas - Math Teacher Mentor       22\n",
       "12005           Science Teacher Mentor       22\n",
       "12051  Math and Science Teacher Mentor       22\n",
       "12142              Math Teacher Mentor       22\n",
       "12372              Math Teacher Mentor       22\n",
       "12373  Math and Science Teacher Mentor       22\n",
       "12828  Math and Science Teacher Mentor       22\n",
       "13716  Math and Science Teacher Mentor       22\n",
       "13776  Math and Science Teacher Mentor       22\n",
       "14090  Math and Science Teacher Mentor       22\n",
       "14188           Teacher (Math/Science)       22\n",
       "14202  Math and Science Teacher Mentor       22\n",
       "14329  Math and Science Teacher Mentor       22\n",
       "14457  Math and Science Teacher Mentor       22\n",
       "14559           Science Teacher Mentor       22\n",
       "14633              Math Teacher Mentor       22\n",
       "14812              Math Teacher Mentor       22\n",
       "15450         Math and Science Teacher       22\n",
       "15651              Math Teacher Mentor       22\n",
       "16466              Math Teacher Mentor       22\n",
       "16548    Math & Science Teacher/Mentor       22"
      ]
     },
     "execution_count": 552,
     "metadata": {},
     "output_type": "execute_result"
    }
   ],
   "source": [
    "temp = groups[groups['cluster'] == 22]\n",
    "temp"
   ]
  },
  {
   "cell_type": "code",
   "execution_count": 553,
   "id": "8d395073",
   "metadata": {
    "ExecuteTime": {
     "end_time": "2021-10-28T21:29:25.198750Z",
     "start_time": "2021-10-28T21:29:25.171828Z"
    }
   },
   "outputs": [
    {
     "data": {
      "text/html": [
       "<div>\n",
       "<style scoped>\n",
       "    .dataframe tbody tr th:only-of-type {\n",
       "        vertical-align: middle;\n",
       "    }\n",
       "\n",
       "    .dataframe tbody tr th {\n",
       "        vertical-align: top;\n",
       "    }\n",
       "\n",
       "    .dataframe thead th {\n",
       "        text-align: right;\n",
       "    }\n",
       "</style>\n",
       "<table border=\"1\" class=\"dataframe\">\n",
       "  <thead>\n",
       "    <tr style=\"text-align: right;\">\n",
       "      <th></th>\n",
       "      <th>job-title</th>\n",
       "      <th>cluster</th>\n",
       "    </tr>\n",
       "  </thead>\n",
       "  <tbody>\n",
       "    <tr>\n",
       "      <th>30</th>\n",
       "      <td>Creative Director</td>\n",
       "      <td>7</td>\n",
       "    </tr>\n",
       "    <tr>\n",
       "      <th>76</th>\n",
       "      <td>Creative Coordinator</td>\n",
       "      <td>7</td>\n",
       "    </tr>\n",
       "    <tr>\n",
       "      <th>131</th>\n",
       "      <td>Merchandising/Creative Review Coordinator</td>\n",
       "      <td>7</td>\n",
       "    </tr>\n",
       "    <tr>\n",
       "      <th>405</th>\n",
       "      <td>Creative Project Manager</td>\n",
       "      <td>7</td>\n",
       "    </tr>\n",
       "    <tr>\n",
       "      <th>604</th>\n",
       "      <td>Creative Director</td>\n",
       "      <td>7</td>\n",
       "    </tr>\n",
       "    <tr>\n",
       "      <th>...</th>\n",
       "      <td>...</td>\n",
       "      <td>...</td>\n",
       "    </tr>\n",
       "    <tr>\n",
       "      <th>15972</th>\n",
       "      <td>Manager, Marketing and Creative Strategy</td>\n",
       "      <td>7</td>\n",
       "    </tr>\n",
       "    <tr>\n",
       "      <th>16155</th>\n",
       "      <td>Associate Creative Director (Copy)</td>\n",
       "      <td>7</td>\n",
       "    </tr>\n",
       "    <tr>\n",
       "      <th>16382</th>\n",
       "      <td>VP, Creative Advertising, Searchlight Pictures</td>\n",
       "      <td>7</td>\n",
       "    </tr>\n",
       "    <tr>\n",
       "      <th>16703</th>\n",
       "      <td>Creative Director</td>\n",
       "      <td>7</td>\n",
       "    </tr>\n",
       "    <tr>\n",
       "      <th>16853</th>\n",
       "      <td>Creative Strategist</td>\n",
       "      <td>7</td>\n",
       "    </tr>\n",
       "  </tbody>\n",
       "</table>\n",
       "<p>92 rows × 2 columns</p>\n",
       "</div>"
      ],
      "text/plain": [
       "                                            job-title  cluster\n",
       "30                                  Creative Director        7\n",
       "76                               Creative Coordinator        7\n",
       "131         Merchandising/Creative Review Coordinator        7\n",
       "405                          Creative Project Manager        7\n",
       "604                                 Creative Director        7\n",
       "...                                               ...      ...\n",
       "15972        Manager, Marketing and Creative Strategy        7\n",
       "16155              Associate Creative Director (Copy)        7\n",
       "16382  VP, Creative Advertising, Searchlight Pictures        7\n",
       "16703                               Creative Director        7\n",
       "16853                             Creative Strategist        7\n",
       "\n",
       "[92 rows x 2 columns]"
      ]
     },
     "execution_count": 553,
     "metadata": {},
     "output_type": "execute_result"
    }
   ],
   "source": [
    "temp = groups[groups['cluster'] == 7]\n",
    "temp"
   ]
  },
  {
   "cell_type": "code",
   "execution_count": null,
   "id": "ee131b52",
   "metadata": {},
   "outputs": [],
   "source": []
  },
  {
   "cell_type": "code",
   "execution_count": null,
   "id": "787b56bd",
   "metadata": {},
   "outputs": [],
   "source": []
  },
  {
   "cell_type": "code",
   "execution_count": null,
   "id": "a2c504ad",
   "metadata": {},
   "outputs": [],
   "source": []
  },
  {
   "cell_type": "code",
   "execution_count": null,
   "id": "6d9c8cb3",
   "metadata": {},
   "outputs": [],
   "source": []
  }
 ],
 "metadata": {
  "hide_input": false,
  "kernelspec": {
   "display_name": "Python 3",
   "language": "python",
   "name": "python3"
  },
  "language_info": {
   "codemirror_mode": {
    "name": "ipython",
    "version": 3
   },
   "file_extension": ".py",
   "mimetype": "text/x-python",
   "name": "python",
   "nbconvert_exporter": "python",
   "pygments_lexer": "ipython3",
   "version": "3.6.9"
  },
  "toc": {
   "base_numbering": 1,
   "nav_menu": {},
   "number_sections": true,
   "sideBar": true,
   "skip_h1_title": false,
   "title_cell": "Table of Contents",
   "title_sidebar": "Contents",
   "toc_cell": false,
   "toc_position": {},
   "toc_section_display": true,
   "toc_window_display": false
  }
 },
 "nbformat": 4,
 "nbformat_minor": 5
}
