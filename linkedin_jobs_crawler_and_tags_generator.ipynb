{
 "cells": [
  {
   "cell_type": "code",
   "execution_count": 185,
   "metadata": {},
   "outputs": [],
   "source": [
    "import  requests \n",
    "import pandas as pd\n",
    "\n",
    "from urllib.error import URLError, HTTPError\n",
    "from urllib3.exceptions import SSLError\n",
    "\n",
    "from requests.exceptions import HTTPError\n",
    "from bs4 import BeautifulSoup\n",
    "from urllib.request import urlopen, Request\n",
    "from socket import timeout\n",
    "\n",
    "from selenium import webdriver\n",
    "from selenium.webdriver.chrome.options import Options\n",
    "from selenium.webdriver.common.by import By\n",
    "from selenium.webdriver.common.keys import Keys\n",
    "from selenium.webdriver.support.ui import WebDriverWait\n",
    "from selenium.webdriver.support.expected_conditions import presence_of_element_located\n",
    "from selenium.common.exceptions import NoSuchElementException\n",
    "from selenium.webdriver.support import expected_conditions as EC\n",
    "\n",
    "import time\n",
    "import sys\n",
    "\n",
    "\n",
    "import random"
   ]
  },
  {
   "cell_type": "code",
   "execution_count": null,
   "metadata": {},
   "outputs": [],
   "source": []
  },
  {
   "cell_type": "code",
   "execution_count": 141,
   "metadata": {},
   "outputs": [
    {
     "data": {
      "text/plain": [
       "'https://www.linkedin.com/jobs/search?keywords=computer%20science&location=&geoId=&trk=homepage-jobseeker_jobs-search-bar_search-submit&position=1&pageNum=0'"
      ]
     },
     "execution_count": 141,
     "metadata": {},
     "output_type": "execute_result"
    }
   ],
   "source": [
    "keywords = 'computer science'\n",
    "keywords2 = keywords\n",
    "keywords = '%20'.join(keywords.split())\n",
    "keywords2 = '_'.join(keywords2.split())\n",
    "\n",
    "url = 'https://www.linkedin.com/jobs/search'\n",
    "t1 = f'?keywords={keywords}&location=&geoId=&'\n",
    "t2 = 'trk=homepage-jobseeker_jobs-search-bar_search-submit&position=1&pageNum=0'\n",
    "\n",
    "full_url = f'{url}{t1}{t2}'\n",
    "full_url"
   ]
  },
  {
   "cell_type": "code",
   "execution_count": 135,
   "metadata": {},
   "outputs": [
    {
     "data": {
      "text/plain": [
       "'335,000+'"
      ]
     },
     "execution_count": 135,
     "metadata": {},
     "output_type": "execute_result"
    }
   ],
   "source": [
    "chrome_driver_path = 'selenium_p/chromedriver'\n",
    "driver = webdriver.Chrome(executable_path=chrome_driver_path)\n",
    "\n",
    "driver.set_page_load_timeout('30')\n",
    "driver.get(full_url)\n",
    "n_jobs = driver.find_element_by_css_selector('h1>span').get_attribute('innerText')\n",
    "\n",
    "\n",
    "n_jobs = n_jobs.strip(',')\n",
    "n_jobs"
   ]
  },
  {
   "cell_type": "code",
   "execution_count": 136,
   "metadata": {},
   "outputs": [
    {
     "data": {
      "text/plain": [
       "('number of jobs found : ', 335000)"
      ]
     },
     "execution_count": 136,
     "metadata": {},
     "output_type": "execute_result"
    }
   ],
   "source": [
    "\n",
    "remove_lst = [',','+','.']\n",
    "for i in remove_lst:\n",
    "    n_jobs = n_jobs.replace(i, '')\n",
    "\n",
    "n_jobs = int(n_jobs)\n",
    "'number of jobs found : ',n_jobs"
   ]
  },
  {
   "cell_type": "code",
   "execution_count": 137,
   "metadata": {},
   "outputs": [],
   "source": [
    "i = 2\n",
    "# while i <= int(n_jobs/25)+1:\n",
    "while i <= int(50/25)+1: \n",
    "\n",
    "    driver.execute_script('window.scrollTo(0, document.body.scrollHeight);')\n",
    "    i = i + 1\n",
    "    try:\n",
    "        driver.find_element_by_xpath('/html/body/main/div/section/button').click()\n",
    "        time.sleep(5)\n",
    "    except:\n",
    "        pass\n",
    "        time.sleep(5)"
   ]
  },
  {
   "cell_type": "code",
   "execution_count": 138,
   "metadata": {},
   "outputs": [
    {
     "data": {
      "text/plain": [
       "74"
      ]
     },
     "execution_count": 138,
     "metadata": {},
     "output_type": "execute_result"
    }
   ],
   "source": [
    "job_lists = driver.find_element_by_class_name('jobs-search__results-list')\n",
    "jobs = job_lists.find_elements_by_tag_name('li') # return a list\n",
    "len(jobs)"
   ]
  },
  {
   "cell_type": "code",
   "execution_count": 139,
   "metadata": {},
   "outputs": [],
   "source": [
    "job_id= []\n",
    "job_title = []\n",
    "company_name = []\n",
    "location = []\n",
    "date = []\n",
    "job_link = []\n",
    "for job in jobs:\n",
    "    \n",
    "    job_title0 = job.find_element_by_css_selector('h3').get_attribute('innerText')\n",
    "    job_title.append(job_title0)\n",
    " \n",
    "    job_link0 = job.find_element_by_css_selector('a').get_attribute('href')\n",
    "    job_link.append(job_link0)\n",
    "    \n",
    "driver.close()"
   ]
  },
  {
   "cell_type": "code",
   "execution_count": null,
   "metadata": {},
   "outputs": [],
   "source": []
  },
  {
   "cell_type": "code",
   "execution_count": 140,
   "metadata": {},
   "outputs": [
    {
     "name": "stdout",
     "output_type": "stream",
     "text": [
      "error in: https://www.linkedin.com/jobs/view/software-engineer-sre-new-grad-at-nuro-2732677545?refId=2jkDdSlGsJYj0WtaVSRHWg%3D%3D&trackingId=NDkjOAnG8%2B6OcuqL9VWrpw%3D%3D&position=9&pageNum=1&trk=public_jobs_jserp-result_search-card\n"
     ]
    }
   ],
   "source": [
    "jobs_details = []\n",
    "\n",
    "\n",
    "for jl in job_link:\n",
    "    \n",
    "    driver = webdriver.Chrome(executable_path=chrome_driver_path)\n",
    "    driver.set_page_load_timeout('15')\n",
    "\n",
    "    try:\n",
    "        driver.get(jl)\n",
    "        \n",
    "        job_detail = driver.find_element_by_class_name('core-section-container__content').get_attribute('innerText')\n",
    "        job_title = driver.find_element_by_css_selector('h1').get_attribute('innerText')\n",
    "        \n",
    "        jobs_details.append([job_title,job_detail])\n",
    "        \n",
    "#         print(job_title)\n",
    "#         print(job_detail)\n",
    "\n",
    "        driver.close()\n",
    "\n",
    "    except:\n",
    "        print(f'error in: {jl}')\n",
    "        driver.close()\n",
    "        pass\n"
   ]
  },
  {
   "cell_type": "code",
   "execution_count": 142,
   "metadata": {},
   "outputs": [],
   "source": [
    "df = pd.DataFrame(jobs_details, columns =['job-title','description'])\n",
    "df.to_csv(f'{keywords2}_{len(jobs_details)}_records.csv', encoding='utf-8', index=False)"
   ]
  },
  {
   "cell_type": "code",
   "execution_count": 187,
   "metadata": {},
   "outputs": [
    {
     "data": {
      "text/html": [
       "<div>\n",
       "<style scoped>\n",
       "    .dataframe tbody tr th:only-of-type {\n",
       "        vertical-align: middle;\n",
       "    }\n",
       "\n",
       "    .dataframe tbody tr th {\n",
       "        vertical-align: top;\n",
       "    }\n",
       "\n",
       "    .dataframe thead th {\n",
       "        text-align: right;\n",
       "    }\n",
       "</style>\n",
       "<table border=\"1\" class=\"dataframe\">\n",
       "  <thead>\n",
       "    <tr style=\"text-align: right;\">\n",
       "      <th></th>\n",
       "      <th>job-title</th>\n",
       "      <th>description</th>\n",
       "    </tr>\n",
       "  </thead>\n",
       "  <tbody>\n",
       "    <tr>\n",
       "      <th>0</th>\n",
       "      <td>Entry-Level (Computer Science)</td>\n",
       "      <td>Direct message the job poster from Belcan\\n\\nS...</td>\n",
       "    </tr>\n",
       "    <tr>\n",
       "      <th>1</th>\n",
       "      <td>Computer Science Intern</td>\n",
       "      <td>Computer Science Intern, Raise Green, Inc. (Re...</td>\n",
       "    </tr>\n",
       "    <tr>\n",
       "      <th>2</th>\n",
       "      <td>Software Engineer Intern</td>\n",
       "      <td>Direct message the job poster from LeNgineer\\n...</td>\n",
       "    </tr>\n",
       "    <tr>\n",
       "      <th>3</th>\n",
       "      <td>Computer Science/Computer Engineering Intern</td>\n",
       "      <td>University Hiring Program Eligibility Requirem...</td>\n",
       "    </tr>\n",
       "    <tr>\n",
       "      <th>4</th>\n",
       "      <td>Software Engineering Intern</td>\n",
       "      <td>Join us as we work to create a thriving ecosys...</td>\n",
       "    </tr>\n",
       "  </tbody>\n",
       "</table>\n",
       "</div>"
      ],
      "text/plain": [
       "                                      job-title  \\\n",
       "0                Entry-Level (Computer Science)   \n",
       "1                       Computer Science Intern   \n",
       "2                      Software Engineer Intern   \n",
       "3  Computer Science/Computer Engineering Intern   \n",
       "4                   Software Engineering Intern   \n",
       "\n",
       "                                         description  \n",
       "0  Direct message the job poster from Belcan\\n\\nS...  \n",
       "1  Computer Science Intern, Raise Green, Inc. (Re...  \n",
       "2  Direct message the job poster from LeNgineer\\n...  \n",
       "3  University Hiring Program Eligibility Requirem...  \n",
       "4  Join us as we work to create a thriving ecosys...  "
      ]
     },
     "execution_count": 187,
     "metadata": {},
     "output_type": "execute_result"
    }
   ],
   "source": [
    "df = pd.read_csv('computer_science_73_records.csv')\n",
    "df.head()"
   ]
  },
  {
   "cell_type": "code",
   "execution_count": 188,
   "metadata": {},
   "outputs": [
    {
     "data": {
      "text/plain": [
       "('saved to: ', 'computer_science_mixed_details.txt')"
      ]
     },
     "execution_count": 188,
     "metadata": {},
     "output_type": "execute_result"
    }
   ],
   "source": [
    "text = ''\n",
    "for itext in range(0,len(df['description']),1):\n",
    "    text+= df['description'].iloc[itext]\n",
    "\n",
    "file = open(f'{keywords2}_mixed_details.txt','w+', encoding='utf-8')\n",
    "file.write(text)\n",
    "file.close\n",
    "\n",
    "'saved to: ',f'{keywords2}_mixed_details.txt'"
   ]
  },
  {
   "cell_type": "code",
   "execution_count": 189,
   "metadata": {},
   "outputs": [
    {
     "name": "stdout",
     "output_type": "stream",
     "text": [
      "[('software', 150), ('Experience', 130), ('development', 125), ('Computer', 122), ('experience', 117), ('Engineering', 106), ('level', 102), ('Information', 91), ('Technology', 84), ('skills', 82), ('Science', 80), ('technology', 72), ('business', 72), ('Software', 72), ('position', 69), ('Employment', 69), ('applications', 67), ('their', 66), ('solutions', 65), ('status', 64), ('systems', 62), ('other', 62), ('design', 62), ('environment', 56), ('application', 55), ('function', 54), ('using', 53), ('Seniority', 53), ('Industries', 53), ('world', 52), ('Services', 52), ('technical', 51), ('required', 51), ('working', 48), ('opportunity', 47), ('information', 47), ('degree', 47), ('engineering', 46), ('support', 45), ('problems', 45), ('employment', 45), ('Internship', 45), ('product', 44), ('technologies', 43), ('system', 43), ('tools', 42), ('learn', 42), ('learning', 40), ('teams', 39), ('Ability', 39)]\n"
     ]
    }
   ],
   "source": [
    "\n",
    "BAD_CHARS = \".!?,\\'\\\"\"\n",
    "\n",
    "words = [ word.strip(BAD_CHARS) for word in text.strip().split() if len(word) > 4 ]\n",
    "word_freq = {}\n",
    "\n",
    "for word in words :\n",
    "  word_freq[word] = word_freq.get(word, 0) + 1\n",
    "\n",
    "tx = [ (v, k) for (k, v) in word_freq.items()]\n",
    "tx.sort(reverse=True)\n",
    "word_freq_sorted = [ (k, v) for (v, k) in tx ]\n",
    "\n",
    "print(word_freq_sorted[:50])\n",
    "\n",
    "term_importance = lambda word : 1.0/word_freq[word]\n",
    "\n",
    "# select document keywords from the words at/near the top of this list:\n",
    "# list(map(term_importance, word_freq.keys()))\n",
    "\n",
    "\n",
    "# returns tags with its frequency in all job postings"
   ]
  },
  {
   "cell_type": "code",
   "execution_count": 194,
   "metadata": {},
   "outputs": [
    {
     "data": {
      "text/plain": [
       "'computer_science'"
      ]
     },
     "execution_count": 194,
     "metadata": {},
     "output_type": "execute_result"
    }
   ],
   "source": [
    "keywords2"
   ]
  },
  {
   "cell_type": "code",
   "execution_count": null,
   "metadata": {},
   "outputs": [],
   "source": []
  },
  {
   "cell_type": "code",
   "execution_count": null,
   "metadata": {},
   "outputs": [],
   "source": []
  }
 ],
 "metadata": {
  "kernelspec": {
   "display_name": "Python 3",
   "language": "python",
   "name": "python3"
  },
  "language_info": {
   "codemirror_mode": {
    "name": "ipython",
    "version": 3
   },
   "file_extension": ".py",
   "mimetype": "text/x-python",
   "name": "python",
   "nbconvert_exporter": "python",
   "pygments_lexer": "ipython3",
   "version": "3.7.6"
  }
 },
 "nbformat": 4,
 "nbformat_minor": 4
}
