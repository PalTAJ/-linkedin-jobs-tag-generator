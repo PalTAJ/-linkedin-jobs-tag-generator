{
 "cells": [
  {
   "cell_type": "code",
   "execution_count": 8,
   "id": "1b64d54e",
   "metadata": {
    "ExecuteTime": {
     "end_time": "2021-10-16T15:42:42.805895Z",
     "start_time": "2021-10-16T15:42:42.800299Z"
    }
   },
   "outputs": [],
   "source": [
    "import re, nltk, spacy, gensim, os\n",
    "from bs4 import BeautifulSoup\n",
    "from nltk.tokenize import ToktokTokenizer\n",
    "from nltk.stem import wordnet\n",
    "from nltk.corpus import stopwords\n",
    "from string import punctuation\n",
    "import pandas as pd\n",
    "import emoji\n",
    "import re\n",
    "from nltk import ngrams\n",
    "\n",
    "\n",
    "from sklearn.feature_extraction.text import TfidfVectorizer,CountVectorizer\n",
    "\n"
   ]
  },
  {
   "cell_type": "code",
   "execution_count": 2,
   "id": "7b3950a7",
   "metadata": {
    "ExecuteTime": {
     "end_time": "2021-10-16T15:41:51.354374Z",
     "start_time": "2021-10-16T15:41:50.959787Z"
    }
   },
   "outputs": [],
   "source": [
    "top_tags = []\n",
    "\n",
    "def list_directories(path):\n",
    "    \"\"\"list files and directories in a given path\"\"\"\n",
    "    arr = os.listdir(path)\n",
    "    return arr\n",
    "\n",
    "\n",
    "def clean_text(text):\n",
    "    ''' Lowering text and removing undesirable marks\n",
    "    '''\n",
    "    \n",
    "    text = text.lower()\n",
    "    text = re.sub(r\"\\'\\n\", \" \", text)\n",
    "    text = re.sub(r\"\\'\\xa0\", \" \", text)\n",
    "    text = re.sub('\\s+', ' ', text) # matches all whitespace characters\n",
    "    text = text.strip(' ')\n",
    "    return text\n",
    "    \n",
    "\n",
    "token = ToktokTokenizer()\n",
    "punct = punctuation\n",
    "    \n",
    "def strip_list_noempty(mylist):\n",
    "    \n",
    "    newlist = (item.strip() if hasattr(item, 'strip') else item for item in mylist)\n",
    "    return [item for item in newlist if item != '']\n",
    "    \n",
    "    \n",
    "def clean_punct(text): \n",
    "    ''' Remove punctuations'''\n",
    "    \n",
    "    words = token.tokenize(text)\n",
    "    punctuation_filtered = []\n",
    "    regex = re.compile('[%s]' % re.escape(punct))\n",
    "    remove_punctuation = str.maketrans(' ', ' ', punct)\n",
    "    \n",
    "    for w in words:\n",
    "        if w in top_tags:\n",
    "            punctuation_filtered.append(w)\n",
    "        else:\n",
    "            w = re.sub('^[0-9]*', \" \", w)\n",
    "            punctuation_filtered.append(regex.sub('', w))\n",
    "  \n",
    "    filtered_list = strip_list_noempty(punctuation_filtered)\n",
    "        \n",
    "    return ' '.join(map(str, filtered_list))\n",
    "\n",
    "\n",
    "stop_words = set(stopwords.words(\"english\"))\n",
    "\n",
    "def stopWordsRemove(text):\n",
    "    ''' Removing all the english stop words from a corpus\n",
    "    Parameter:\n",
    "    text: corpus to remove stop words from it\n",
    "    '''\n",
    "\n",
    "    words = token.tokenize(text)\n",
    "    filtered = [w for w in words if not w in stop_words]\n",
    "    \n",
    "    return ' '.join(map(str, filtered))\n",
    "    \n",
    "    \n",
    "nlp = spacy.load('en_core_web_sm', disable=['parser', 'ner'])\n",
    "\n",
    "def lemmatization(texts, allowed_postags, stop_words=stop_words):\n",
    "    ''' It keeps the lemma of the words (lemma is the uninflected form of a word),\n",
    "    and deletes the underired POS tags\n",
    "    \n",
    "    Parameters:\n",
    "    \n",
    "    texts (list): text to lemmatize\n",
    "    allowed_postags (list): list of allowed postags, like NOUN, ADL, VERB, ADV\n",
    "    '''\n",
    "    lemma = wordnet.WordNetLemmatizer()       \n",
    "    doc = nlp(texts) \n",
    "    texts_out = []\n",
    "    \n",
    "    for token in doc:\n",
    "        \n",
    "        if str(token) in top_tags:\n",
    "            texts_out.append(str(token))\n",
    "            \n",
    "        elif token.pos_ in allowed_postags:\n",
    "            \n",
    "            if token.lemma_ not in ['-PRON-']:\n",
    "                texts_out.append(token.lemma_)\n",
    "                \n",
    "            else:\n",
    "                texts_out.append('')\n",
    "     \n",
    "    texts_out = ' '.join(texts_out)\n",
    "\n",
    "    return texts_out\n",
    "    \n",
    "    \n",
    "def strip_emoji(text):\n",
    "#     print(emoji.emoji_count(text))\n",
    "    new_text = re.sub(emoji.get_emoji_regexp(), r\"\", text)\n",
    "    return new_text\n",
    "\n",
    "\n",
    "\n",
    "def preprocess_text(df,column='description'):\n",
    "    \n",
    "    df[column] = df[column].apply(lambda x: clean_text(x))\n",
    "    df[column] = df[column].apply(lambda x:  BeautifulSoup(x).get_text())\n",
    "    df[column] = df[column].apply(lambda x: strip_emoji(x))\n",
    "\n",
    "    df[column] = df[column].apply(lambda x: clean_punct(x)) \n",
    "    df[column] = df[column].apply(lambda x: stopWordsRemove(x)) \n",
    "    df[column] = df[column].apply(lambda x: lemmatization(x, ['NOUN', 'ADV']))\n",
    "\n",
    "    return df"
   ]
  },
  {
   "cell_type": "code",
   "execution_count": 9,
   "id": "d3d81f62",
   "metadata": {
    "ExecuteTime": {
     "end_time": "2021-10-16T15:46:11.490752Z",
     "start_time": "2021-10-16T15:46:11.485992Z"
    }
   },
   "outputs": [],
   "source": [
    "\n",
    "def generate_tags(df,column='description'):\n",
    "    \n",
    "    countVec =CountVectorizer(ngram_range=(1,5))\n",
    "    cv = countVec.fit_transform(df[column].str.lower())\n",
    "    cv_feature_names = countVec.get_feature_names()\n",
    "    feature_count = cv.toarray().sum(axis = 0)\n",
    "    feature_count = sorted(dict(zip(cv_feature_names, feature_count)).items(), key=lambda item: item[1])[::-1][:50]\n",
    "\n",
    "    return feature_count"
   ]
  },
  {
   "cell_type": "code",
   "execution_count": 10,
   "id": "87d9736b",
   "metadata": {
    "ExecuteTime": {
     "end_time": "2021-10-16T15:46:12.526398Z",
     "start_time": "2021-10-16T15:46:12.522865Z"
    }
   },
   "outputs": [
    {
     "data": {
      "text/plain": [
       "['Communication_Disorders_Sciences_67_records.csv',\n",
       " 'Neuroscience_170_records.csv',\n",
       " 'Human_Resources-Personnel_Management_24_records.csv',\n",
       " 'Computer_Science_71_records.csv',\n",
       " 'Communication_Technologies_62_records.csv',\n",
       " 'Accounting_25_records.csv',\n",
       " 'Criminal_Justice___Fire_Protection_66_records.csv',\n",
       " 'Mathematics_173_records.csv',\n",
       " 'Computer_Programming___Data_Processing_69_records.csv',\n",
       " 'Materials_Engineering_&_Materials_Science_170_records.csv',\n",
       " 'Commercial_Art___Graphic_Design_69_records.csv',\n",
       " 'Community___Public_Health_61_records.csv',\n",
       " 'Composition___Rhetoric_65_records.csv',\n",
       " 'Psychologist_75_records.csv',\n",
       " 'Computer_Science_74_records.csv',\n",
       " 'Mechanical_Engineering_175_records.csv',\n",
       " 'Computer_Engineering_69_records.csv',\n",
       " 'Marketing_&_Marketing_Research_25_records.csv',\n",
       " 'Construction_Services_71_records.csv',\n",
       " 'Computer_Networking___Telecommunications_67_records.csv',\n",
       " 'Operations_Logistics_&_E-Commerce_172_records.csv',\n",
       " 'Pre-Law_&_Legal_Studies_169_records.csv',\n",
       " 'Early_Childhood_Education_66_records.csv',\n",
       " 'Computer___Information_Systems_69_records.csv',\n",
       " 'Clinical_Psychology_73_records.csv',\n",
       " 'Statistics_&_Decision_Science_169_records.csv',\n",
       " 'Management_Information_Systems_24_records.csv',\n",
       " 'Public_Administration_24_records.csv',\n",
       " 'Computer_Management___Security_66_records.csv']"
      ]
     },
     "execution_count": 10,
     "metadata": {},
     "output_type": "execute_result"
    }
   ],
   "source": [
    "files = list_directories('data')\n",
    "files"
   ]
  },
  {
   "cell_type": "code",
   "execution_count": null,
   "id": "14e64046",
   "metadata": {},
   "outputs": [],
   "source": []
  },
  {
   "cell_type": "code",
   "execution_count": 11,
   "id": "290043fe",
   "metadata": {
    "ExecuteTime": {
     "end_time": "2021-10-16T15:46:15.550836Z",
     "start_time": "2021-10-16T15:46:15.546879Z"
    }
   },
   "outputs": [
    {
     "data": {
      "text/plain": [
       "['CommunicationDisordersSciences',\n",
       " 'Neuroscience',\n",
       " 'HumanResources-PersonnelManagement',\n",
       " 'ComputerScience',\n",
       " 'CommunicationTechnologies',\n",
       " 'Accounting',\n",
       " 'CriminalJusticeFireProtection',\n",
       " 'Mathematics',\n",
       " 'ComputerProgrammingDataProcessing',\n",
       " 'MaterialsEngineering&MaterialsScience',\n",
       " 'CommercialArtGraphicDesign',\n",
       " 'CommunityPublicHealth',\n",
       " 'CompositionRhetoric',\n",
       " 'Psychologist',\n",
       " 'ComputerScience',\n",
       " 'MechanicalEngineering',\n",
       " 'ComputerEngineering',\n",
       " 'Marketing&MarketingResearch',\n",
       " 'ConstructionServices',\n",
       " 'ComputerNetworkingTelecommunications',\n",
       " 'OperationsLogistics&E-Commerce',\n",
       " 'Pre-Law&LegalStudies',\n",
       " 'EarlyChildhoodEducation',\n",
       " 'ComputerInformationSystems',\n",
       " 'ClinicalPsychology',\n",
       " 'Statistics&DecisionScience',\n",
       " 'ManagementInformationSystems',\n",
       " 'PublicAdministration',\n",
       " 'ComputerManagementSecurity']"
      ]
     },
     "execution_count": 11,
     "metadata": {},
     "output_type": "execute_result"
    }
   ],
   "source": [
    "category = []\n",
    "for i in files:\n",
    "    t = ''.join(i.split('_')[:-2])\n",
    "    category.append(t)\n",
    "category"
   ]
  },
  {
   "cell_type": "code",
   "execution_count": 12,
   "id": "6e7bde3c",
   "metadata": {
    "ExecuteTime": {
     "end_time": "2021-10-16T15:47:28.506479Z",
     "start_time": "2021-10-16T15:46:19.694317Z"
    }
   },
   "outputs": [],
   "source": [
    "data = []\n",
    "for cat, file in zip(category,files):\n",
    "    df = pd.read_csv(f\"data/{file}\") \n",
    "\n",
    "    df = preprocess_text(df,column='description')\n",
    "    df = preprocess_text(df,column='job-title')\n",
    "    tags1 = generate_tags(df,column='description')\n",
    "    tags2 = generate_tags(df,column='job-title')\n",
    "    \n",
    "    data.append([ cat, file ,tags1,tags2 ])\n"
   ]
  },
  {
   "cell_type": "code",
   "execution_count": 13,
   "id": "5e34592e",
   "metadata": {
    "ExecuteTime": {
     "end_time": "2021-10-16T15:47:28.524324Z",
     "start_time": "2021-10-16T15:47:28.507781Z"
    }
   },
   "outputs": [
    {
     "name": "stdout",
     "output_type": "stream",
     "text": [
      "###### title Based ######## \n",
      "\n",
      "\n",
      " CommunicationDisordersSciences -----> Communication_Disorders_Sciences_67_records.csv \n",
      "\n",
      "[('speech', 11), ('pathologist', 10), ('disorder', 10), ('communication', 9), ('language', 8), ('professor', 7), ('director', 7), ('speech language', 6), ('science', 6), ('ihp', 6), ('assistant', 6), ('speech pathologist', 5), ('program', 5), ('pathology', 5), ('faculty', 5), ('communication science', 5), ('track', 4), ('therapy', 4), ('speech language pathologist', 4), ('science disorder', 4), ('research', 4), ('language pathologist', 4), ('fulltime', 4), ('education', 4), ('director education', 4), ('talent acquisition partner', 3), ('talent acquisition', 3), ('talent', 3), ('staff', 3), ('speechlanguage', 3), ('partner', 3), ('nontenure track', 3), ('nontenure', 3), ('language pathology', 3), ('ihp staff', 3), ('health', 3), ('communication science disorder', 3), ('communication disorder', 3), ('assistant professor', 3), ('assistant ihp', 3), ('amp disorder', 3), ('amp', 3), ('acquisition partner', 3), ('acquisition', 3), ('vice president affair', 2), ('vice president', 2), ('vice', 2), ('therapy parttime fte', 2), ('therapy parttime', 2), ('therapy nontenure track', 2)] \n",
      "\n",
      "\n",
      " Neuroscience -----> Neuroscience_170_records.csv \n",
      "\n",
      "[('research', 76), ('scientist', 61), ('neuroscience', 58), ('research scientist', 27), ('assistant', 18), ('research assistant', 14), ('associate', 14), ('biology', 12), ('scientist neuroscience', 10), ('research associate', 9), ('director', 8), ('development', 8), ('science', 7), ('research scientist neuroscience', 7), ('vivo', 6), ('summer internship', 6), ('summer', 6), ('research development summer internship', 6), ('research development summer', 6), ('research development', 6), ('internship', 6), ('development summer internship', 6), ('development summer', 6), ('cell', 6), ('lab', 5), ('associate neuroscience', 5), ('scientist vivo', 4), ('scholar', 4), ('researcher', 4), ('research scholar', 4), ('research associate neuroscience', 4), ('program', 4), ('neuroscience research', 4), ('immunology', 4), ('gene', 4), ('director neuroscience', 4), ('cell biology', 4), ('therapy', 3), ('specialist', 3), ('science liaison neuroscience', 3), ('science liaison', 3), ('research assistant neuroscience', 3), ('program leader neuroscience immunology disease', 3), ('program leader neuroscience immunology', 3), ('program leader neuroscience', 3), ('program leader', 3), ('neuroscientist', 3), ('neuroscience laboratory', 3), ('neuroscience immunology disease', 3), ('neuroscience immunology', 3)] \n",
      "\n",
      "\n",
      " HumanResources-PersonnelManagement -----> Human_Resources-Personnel_Management_24_records.csv \n",
      "\n",
      "[('resource', 18), ('coordinator', 8), ('resource coordinator', 7), ('manager', 6), ('resource manager', 5), ('partner hrbp', 2), ('partner', 2), ('hrbp', 2), ('business partner hrbp', 2), ('business partner', 2), ('business', 2), ('administrator', 2), ('00000yr', 2), ('variantmask fully peple', 1), ('variantmask fully', 1), ('variantmask', 1), ('team', 1), ('specialistcovid19 delta variantmask fully peple', 1), ('specialistcovid19 delta variantmask fully', 1), ('specialistcovid19 delta variantmask', 1), ('specialistcovid19 delta', 1), ('specialistcovid19', 1), ('specialist team', 1), ('specialist', 1), ('service center representative', 1), ('service center', 1), ('service', 1), ('risk management', 1), ('risk', 1), ('resource specialistcovid19 delta variantmask fully', 1), ('resource specialistcovid19 delta variantmask', 1), ('resource specialistcovid19 delta', 1), ('resource specialistcovid19', 1), ('resource specialist team', 1), ('resource specialist', 1), ('resource product', 1), ('resource office administrator', 1), ('resource office', 1), ('resource manager ft 00000yr 00000yr', 1), ('resource manager ft 00000yr', 1), ('resource manager ft', 1), ('resource coordinator entry level', 1), ('resource coordinator entry', 1), ('resource administrator', 1), ('representative', 1), ('product', 1), ('peple', 1), ('office administrator', 1), ('office', 1), ('manager resource product', 1)] \n",
      "\n",
      "\n",
      " ComputerScience -----> Computer_Science_71_records.csv \n",
      "\n",
      "[('software', 32), ('developer', 21), ('engineer', 20), ('intern', 17), ('level', 16), ('entry level', 16), ('entry', 16), ('software developer', 14), ('science', 14), ('computer', 14), ('computer science', 12), ('summer', 11), ('internship', 10), ('associate', 10), ('level associate', 9), ('entry level associate', 9), ('engineering', 8), ('software engineer', 7), ('level software', 7), ('entry level software', 7), ('engineer intern', 7), ('software engineering', 6), ('scientist', 6), ('level software developer', 5), ('level associate developer', 5), ('entry level software developer', 5), ('entry level associate developer', 5), ('data scientist', 5), ('data', 5), ('associate developer', 5), ('stack end', 4), ('stack', 4), ('scientist commercial', 4), ('level associate developer stack end', 4), ('level associate developer stack', 4), ('level associate data scientist commercial', 4), ('level associate data scientist', 4), ('level associate data', 4), ('intern software developer', 4), ('intern software', 4), ('grad', 4), ('entry level associate developer stack', 4), ('entry level associate data scientist', 4), ('entry level associate data', 4), ('engineering internship', 4), ('end', 4), ('developer stack end', 4), ('developer stack', 4), ('data scientist commercial', 4), ('commercial', 4)] \n",
      "\n",
      "\n",
      " CommunicationTechnologies -----> Communication_Technologies_62_records.csv \n",
      "\n",
      "[('communication', 25), ('manager', 15), ('engineer', 11), ('technology', 10), ('director', 10), ('communication engineer', 8), ('specialist', 5), ('system', 4), ('information technology', 4), ('information', 4), ('communication specialist', 4), ('operation', 3), ('medium', 3), ('marketing', 3), ('manager communication', 3), ('content', 3), ('amp', 3), ('voice system', 2), ('voice', 2), ('technology consultant', 2), ('technician', 2), ('tech', 2), ('relation', 2), ('project', 2), ('product', 2), ('networking', 2), ('manager enterprise', 2), ('enterprise', 2), ('director information technology', 2), ('director information', 2), ('coordinator', 2), ('content manager', 2), ('consultant', 2), ('communication technology consultant', 2), ('communication technology', 2), ('communication manager', 2), ('workplace administrator', 1), ('workplace', 1), ('transportation', 1), ('technology system', 1), ('technology supervisor', 1), ('technology operation', 1), ('technology manager', 1), ('technology innovator', 1), ('technology engineer', 1), ('technology amp infrastructure operation', 1), ('technology amp infrastructure', 1), ('technology amp', 1), ('tech manager engineering voice system', 1), ('tech manager engineering voice', 1)] \n",
      "\n",
      "\n",
      " Accounting -----> Accounting_25_records.csv \n",
      "\n",
      "[('accounting', 17), ('analyst', 5), ('assistant', 4), ('specialist', 3), ('associate', 3), ('accounting specialist', 3), ('accounting associate', 3), ('accounting analyst', 3), ('finance', 2), ('director', 2), ('amp', 2), ('reporting analyst', 1), ('reporting', 1), ('portfolio company', 1), ('portfolio', 1), ('officer portfolio company', 1), ('officer portfolio', 1), ('officer', 1), ('intern finance amp accounting', 1), ('intern finance amp', 1), ('intern finance', 1), ('intern', 1), ('head', 1), ('finance analyst', 1), ('finance amp accounting', 1), ('finance amp', 1), ('customer accounting specialist', 1), ('customer accounting', 1), ('customer', 1), ('coordinator', 1), ('controller', 1), ('consolidation accountant accounting', 1), ('consolidation accountant', 1), ('consolidation', 1), ('company', 1), ('clerk', 1), ('amp reporting analyst', 1), ('amp reporting', 1), ('amp accounting', 1), ('accounting officer portfolio company', 1), ('accounting officer portfolio', 1), ('accounting officer', 1), ('accounting finance analyst', 1), ('accounting finance', 1), ('accounting coordinator', 1), ('accounting clerk', 1), ('accounting amp reporting analyst', 1), ('accounting amp reporting', 1), ('accounting amp', 1), ('accountant accounting', 1)] \n",
      "\n",
      "\n",
      " CriminalJusticeFireProtection -----> Criminal_Justice___Fire_Protection_66_records.csv \n",
      "\n",
      "[('investigator', 26), ('analyst', 12), ('justice', 10), ('law enforcement', 6), ('law', 6), ('enforcement', 6), ('reporter', 5), ('response enablement', 4), ('response', 4), ('policy', 4), ('law enforcement response enablement', 4), ('law enforcement response', 4), ('fraud investigator', 4), ('fraud', 4), ('enforcement response enablement', 4), ('enforcement response', 4), ('enablement', 4), ('crime', 4), ('background investigator', 4), ('background', 4), ('specialist', 3), ('project', 3), ('policy analyst', 3), ('threat', 2), ('surveillance investigator', 2), ('surveillance', 2), ('response enablement lead', 2), ('research', 2), ('officer', 2), ('lead', 2), ('law enforcement response enablement lead', 2), ('laundering', 2), ('justice reporter', 2), ('investigator amp access', 2), ('investigator amp', 2), ('intern', 2), ('intelligence analyst', 2), ('intelligence', 2), ('immigration', 2), ('enforcement response enablement lead', 2), ('enablement lead', 2), ('background investigator amp access', 2), ('background investigator amp', 2), ('analyst law enforcement response enablement', 2), ('analyst law enforcement response', 2), ('analyst law enforcement', 2), ('analyst law', 2), ('amp access', 2), ('amp', 2), ('access', 2)] \n",
      "\n",
      "\n",
      " Mathematics -----> Mathematics_173_records.csv \n",
      "\n",
      "[('scientist', 72), ('data', 49), ('data scientist', 41), ('mathematic', 25), ('datum', 20), ('analyst', 18), ('level', 12), ('entry level', 12), ('entry', 12), ('associate', 12), ('science', 9), ('research', 9), ('tutor', 8), ('datum scientist', 8), ('researcher', 7), ('intern', 7), ('data analyst', 7), ('faculty', 6), ('scientist commercial', 5), ('math', 5), ('level associate data scientist commercial', 5), ('level associate data scientist', 5), ('level associate data', 5), ('level associate', 5), ('entry level associate data scientist', 5), ('entry level associate data', 5), ('entry level associate', 5), ('data scientist commercial', 5), ('commercial', 5), ('associate data scientist commercial', 5), ('associate data scientist', 5), ('associate data', 5), ('teacher', 4), ('scientist scientist marketing', 4), ('scientist scientist', 4), ('scientist marketing', 4), ('reviewer', 4), ('research scientist', 4), ('marketing', 4), ('datum science', 4), ('datum reviewer', 4), ('specialist', 3), ('scientist capital management', 3), ('scientist capital', 3), ('position', 3), ('parttime', 3), ('management', 3), ('level datum reviewer', 3), ('level datum', 3), ('instructor', 3)] \n",
      "\n",
      "\n",
      " ComputerProgrammingDataProcessing -----> Computer_Programming___Data_Processing_69_records.csv \n",
      "\n",
      "[('software', 39), ('engineer', 33), ('software engineer', 23), ('level', 23), ('entry', 23), ('entry level', 22), ('developer', 16), ('level software', 15), ('entry level software', 15), ('intern', 12), ('software developer', 10), ('level software engineer', 7), ('level software developer', 7), ('entry level software engineer', 7), ('entry level software developer', 7), ('computer', 6), ('programming', 5), ('software developer position', 4), ('position', 4), ('level software developer position', 4), ('entry level software developer position', 4), ('engineer intern', 4), ('developer position', 4), ('stack end', 3), ('stack', 3), ('software engineering', 3), ('programming instructor', 3), ('level associate developer stack end', 3), ('level associate developer stack', 3), ('level associate developer', 3), ('level associate', 3), ('instructor', 3), ('entry level associate developer stack', 3), ('entry level associate developer', 3), ('entry level associate', 3), ('engineering', 3), ('end', 3), ('developer stack end', 3), ('developer stack', 3), ('computer programming instructor', 3), ('computer programming', 3), ('associate developer stack end', 3), ('associate developer stack', 3), ('associate developer', 3), ('associate', 3), ('video', 2), ('time', 2), ('technology', 2), ('teacher mentor', 2), ('teacher', 2)] \n",
      "\n",
      "\n",
      " MaterialsEngineering&MaterialsScience -----> Materials_Engineering_&_Materials_Science_170_records.csv \n",
      "\n",
      "[('material', 154), ('engineer', 96), ('material engineer', 55), ('engineering', 34), ('plastic', 21), ('material plastic', 21), ('engineering material plastic', 21), ('engineering material', 21), ('scientist', 18), ('process', 13), ('material scientist', 13), ('process engineer', 9), ('material process', 8), ('cell', 8), ('polymer', 7), ('engineer material', 7), ('science', 6), ('material science', 6), ('cell material', 6), ('amp', 6), ('rd', 5), ('test', 4), ('material test', 4), ('material process engineer', 4), ('material engineering', 4), ('lab', 4), ('engineerscientist', 4), ('engineer cell', 4), ('design', 4), ('application', 4), ('test engineer', 3), ('technician', 3), ('research', 3), ('rd engineer', 3), ('project', 3), ('material test engineer', 3), ('material engineerscientist', 3), ('material engineer cell', 3), ('material application', 3), ('manufacturing', 3), ('manager', 3), ('intern', 3), ('engineer polymer', 3), ('coating', 3), ('chemical', 3), ('textile', 2), ('science engineering', 2), ('science engineer', 2), ('researcher', 2), ('research scientist', 2)] \n",
      "\n",
      "\n",
      " CommercialArtGraphicDesign -----> Commercial_Art___Graphic_Design_69_records.csv \n",
      "\n",
      "[('director', 16), ('art', 10), ('associate', 9), ('manager', 8), ('designer', 7), ('estate', 6), ('director estate', 6), ('associate director estate', 6), ('associate director', 6), ('assistant', 6), ('art director', 6), ('project', 5), ('coordinator', 5), ('studio', 4), ('production', 4), ('gallery', 4), ('curator', 4), ('specialist', 3), ('operation', 3), ('marketing', 3), ('consultant', 3), ('art consultant', 3), ('project manager', 2), ('production manager', 2), ('producer', 2), ('gallery assistant', 2), ('design', 2), ('content', 2), ('work home', 1), ('work', 1), ('stylist', 1), ('studio representative', 1), ('studio producer', 1), ('studio operation sample manager', 1), ('studio operation sample', 1), ('studio operation', 1), ('studio manager', 1), ('store environment designer', 1), ('store environment', 1), ('store', 1), ('service', 1), ('series', 1), ('scifiadventure series', 1), ('scifiadventure', 1), ('sample manager', 1), ('sample', 1), ('representative', 1), ('publishing marketing', 1), ('publishing', 1), ('project executive', 1)] \n",
      "\n",
      "\n",
      " CommunityPublicHealth -----> Community___Public_Health_61_records.csv \n",
      "\n",
      "[('community', 43), ('manager', 22), ('coordinator', 15), ('community manager', 13), ('outreach', 8), ('community outreach', 8), ('specialist', 5), ('engagement', 5), ('community engagement', 5), ('program', 4), ('marketing', 3), ('associate', 3), ('assistant', 3), ('amp', 3), ('workwell community manager', 2), ('workwell community', 2), ('workwell', 2), ('representative', 2), ('relation', 2), ('project assistant', 2), ('project', 2), ('program coordinator', 2), ('partnership', 2), ('outreach representative', 2), ('outreach coordinator', 2), ('outreach associate', 2), ('medium amp content', 2), ('medium amp', 2), ('medium', 2), ('marketing coordinator', 2), ('manager community', 2), ('level', 2), ('impact project assistant', 2), ('impact project', 2), ('impact', 2), ('family', 2), ('event', 2), ('entry level', 2), ('entry', 2), ('engagement specialist', 2), ('engagement manager', 2), ('director', 2), ('content', 2), ('community relation', 2), ('community partnership', 2), ('community outreach representative', 2), ('community outreach coordinator', 2), ('community outreach associate', 2), ('community impact project assistant', 2), ('community impact project', 2)] \n",
      "\n",
      "\n",
      " CompositionRhetoric -----> Composition___Rhetoric_65_records.csv \n",
      "\n",
      "[('artist', 22), ('scientist', 9), ('editor', 7), ('photographer', 6), ('environment artist', 5), ('environment', 5), ('research', 4), ('concept artist', 4), ('concept', 4), ('composition', 4), ('associate', 4), ('visualization artist', 3), ('visualization', 3), ('studio', 2), ('scorer', 2), ('polymer', 2), ('mid', 2), ('material', 2), ('generalist', 2), ('composition scorer', 2), ('character', 2), ('assistant', 2), ('amp', 2), ('wing', 1), ('temp', 1), ('technologist', 1), ('surface modeler', 1), ('surface', 1), ('study', 1), ('studio product photographer', 1), ('studio product', 1), ('studio animation', 1), ('sky artist', 1), ('sky', 1), ('sim scientist', 1), ('sim', 1), ('scientist polymer chemistry', 1), ('scientist polymer', 1), ('scientist metallurgy', 1), ('scholar', 1), ('sample return program position', 1), ('sample return program', 1), ('sample return', 1), ('sample', 1), ('rhetoric study', 1), ('rhetoric', 1), ('revisionist funhouse', 1), ('revisionist', 1), ('return program position', 1), ('return program', 1)] \n",
      "\n",
      "\n",
      " Psychologist -----> Psychologist_75_records.csv \n",
      "\n",
      "[('psychologist', 71), ('outpatient psychologist', 5), ('outpatient', 5), ('child', 4), ('work', 2), ('staff psychologist', 2), ('staff', 2), ('research psychologist', 2), ('research', 2), ('psychologist assistant', 2), ('disorder', 2), ('child psychologist', 2), ('assistant', 2), ('work service', 1), ('therapist psychologist', 1), ('therapist', 1), ('telehealth', 1), ('substance disorder', 1), ('substance', 1), ('service', 1), ('return work service', 1), ('return work', 1), ('return', 1), ('psychotherapist', 1), ('psychologist telehealth', 1), ('psychologist substance disorder', 1), ('psychologist substance', 1), ('psychologist return work service', 1), ('psychologist return work', 1), ('psychologist return', 1), ('psychologist psychotherapist', 1), ('psychologist mostly work', 1), ('psychologist mostly', 1), ('psychologist group practice', 1), ('psychologist group', 1), ('psychologist fulltime parttime', 1), ('psychologist fulltime', 1), ('psychologist community health', 1), ('psychologist community', 1), ('psychologist child clinic', 1), ('psychologist child', 1), ('practice', 1), ('position', 1), ('parttime', 1), ('mostly work', 1), ('mostly', 1), ('health', 1), ('group practice', 1), ('group', 1), ('fulltime parttime', 1)] \n",
      "\n",
      "\n",
      " ComputerScience -----> Computer_Science_74_records.csv \n",
      "\n",
      "[('engineer', 34), ('software', 32), ('software engineer', 20), ('developer', 17), ('scientist', 10), ('software developer', 9), ('data scientist', 8), ('data', 8), ('computer', 8), ('level', 7), ('intern', 6), ('entry level', 6), ('entry', 6), ('grad', 5), ('summer', 4), ('science', 4), ('internship', 4), ('computer science', 4), ('vision', 3), ('stack end', 3), ('stack', 3), ('machine', 3), ('level associate developer stack end', 3), ('level associate developer stack', 3), ('level associate developer', 3), ('level associate', 3), ('entry level associate developer stack', 3), ('entry level associate developer', 3), ('entry level associate', 3), ('end', 3), ('developer stack end', 3), ('developer stack', 3), ('computer vision', 3), ('associate developer stack end', 3), ('associate developer stack', 3), ('associate developer', 3), ('associate', 3), ('vision engineer', 2), ('university grad', 2), ('university', 2), ('summer internship', 2), ('software engineering', 2), ('software developer intern', 2), ('science junior', 2), ('programmer', 2), ('machine engineer', 2), ('level software developer', 2), ('level software', 2), ('junior', 2), ('graduate', 2)] \n",
      "\n",
      "\n",
      " MechanicalEngineering -----> Mechanical_Engineering_175_records.csv \n",
      "\n",
      "[('engineering', 139), ('engineer', 39), ('intern', 36), ('engineering intern', 31), ('summer', 19), ('coop', 19), ('internship', 16), ('engineering coop', 15), ('technician', 8), ('internship engineering', 8), ('engineering technician', 8), ('engineering summer', 8), ('design', 8), ('spring', 7), ('level', 7), ('manager', 6), ('lead', 6), ('engineering internship', 6), ('design engineer', 6), ('intern summer', 5), ('entry level', 5), ('entry', 5), ('engineering intern summer', 5), ('vehicle', 4), ('summer internship', 4), ('specialist', 4), ('product', 4), ('manufacturing', 4), ('engineering manager', 4), ('coop spring', 4), ('summerfall', 3), ('springsummer', 3), ('specialist emobility', 3), ('rd', 3), ('project', 3), ('manufacturing engineer', 3), ('graduatesummer', 3), ('graduate', 3), ('engineering lead', 3), ('engineering graduatesummer', 3), ('engineering graduate', 3), ('engineering coop summerfall', 3), ('engineering coop springsummer', 3), ('engineering coop spring', 3), ('emobility', 3), ('coop summerfall', 3), ('coop springsummer', 3), ('vehicle lead', 2), ('vehicle feature engineering', 2), ('vehicle feature', 2)] \n",
      "\n",
      "\n",
      " ComputerEngineering -----> Computer_Engineering_69_records.csv \n",
      "\n",
      "[('software', 33), ('engineer', 28), ('developer', 28), ('level', 25), ('entry level', 25), ('entry', 25), ('software developer', 20), ('level software', 15), ('intern', 15), ('entry level software', 15), ('level software developer', 13), ('entry level software developer', 13), ('grad', 11), ('university grad', 10), ('university', 10), ('engineer university grad', 10), ('engineer university', 10), ('engineer intern', 9), ('software engineer', 8), ('level associate developer', 7), ('level associate', 7), ('entry level associate developer', 7), ('entry level associate', 7), ('engineering', 7), ('end', 7), ('associate developer', 7), ('associate', 7), ('software developer position', 5), ('position', 5), ('level software developer position', 5), ('entry level software developer position', 5), ('developer position', 5), ('stack end', 4), ('stack', 4), ('level associate developer stack end', 4), ('level associate developer stack', 4), ('internship', 4), ('entry level associate developer stack', 4), ('engineering internship', 4), ('developer stack end', 4), ('developer stack', 4), ('associate developer stack end', 4), ('associate developer stack', 4), ('spring', 3), ('level associate developer end', 3), ('internship spring', 3), ('entry level associate developer end', 3), ('engineering internship spring', 3), ('developer end', 3), ('computer', 3)] \n",
      "\n",
      "\n",
      " Marketing&MarketingResearch -----> Marketing_&_Marketing_Research_25_records.csv \n",
      "\n",
      "[('marketing', 20), ('manager', 8), ('brand', 7), ('brand marketing', 5), ('specialist', 4), ('coordinator', 4), ('associate', 4), ('marketing specialist', 3), ('marketing manager', 3), ('researcher facebook company', 2), ('researcher facebook', 2), ('researcher', 2), ('operation', 2), ('marketing researcher facebook company', 2), ('marketing researcher facebook', 2), ('marketing researcher', 2), ('marketing coordinator', 2), ('marketing associate', 2), ('manager brand', 2), ('facebook company', 2), ('facebook', 2), ('email marketing specialist', 2), ('email marketing', 2), ('email', 2), ('company', 2), ('brand marketing researcher facebook company', 2), ('brand marketing researcher facebook', 2), ('brand marketing researcher', 2), ('amp', 2), ('tv', 1), ('strategy amp activation', 1), ('strategy amp', 1), ('strategy', 1), ('strategist behavior change marketing', 1), ('strategist behavior change', 1), ('strategist behavior', 1), ('strategist', 1), ('store', 1), ('partnership marketing', 1), ('partnership', 1), ('operation manager brand', 1), ('operation manager', 1), ('merchandising coordinator', 1), ('merchandising', 1), ('marketing strategy amp activation', 1), ('marketing strategy amp', 1), ('marketing strategy', 1), ('marketing strategist behavior change marketing', 1), ('marketing strategist behavior change', 1), ('marketing strategist behavior', 1)] \n",
      "\n",
      "\n",
      " ConstructionServices -----> Construction_Services_71_records.csv \n",
      "\n",
      "[('manager', 31), ('construction', 30), ('project', 21), ('service', 17), ('project manager', 13), ('construction service', 13), ('vice', 10), ('facility', 10), ('operation', 9), ('director', 9), ('vice president', 8), ('president', 8), ('construction manager', 8), ('management', 6), ('vice president operation', 5), ('program', 5), ('president operation', 5), ('coordinator', 5), ('service manager', 4), ('development', 4), ('construction project', 4), ('region', 3), ('project management', 3), ('project coordinator', 3), ('officer', 3), ('director construction', 3), ('amp', 3), ('site construction manager', 2), ('site construction', 2), ('site', 2), ('service leader', 2), ('project manager construction service', 2), ('project manager construction', 2), ('program manager', 2), ('manager facility', 2), ('manager construction service', 2), ('manager construction', 2), ('leader', 2), ('facility manager', 2), ('estate', 2), ('director operation', 2), ('director construction service', 2), ('development project', 2), ('development officer', 2), ('contract', 2), ('construction service manager', 2), ('construction service leader', 2), ('construction project manager', 2), ('construction project coordinator', 2), ('construction assistant project manager', 2)] \n",
      "\n",
      "\n",
      " ComputerNetworkingTelecommunications -----> Computer_Networking___Telecommunications_67_records.csv \n",
      "\n",
      "[('engineer', 23), ('network', 21), ('support', 14), ('network engineer', 12), ('specialist', 8), ('level', 7), ('technician', 6), ('computer', 6), ('administrator', 6), ('system', 5), ('support specialist', 5), ('entry level', 5), ('entry', 5), ('technology', 3), ('system administrator', 3), ('support engineer', 3), ('service', 3), ('networking', 3), ('information technology', 3), ('information', 3), ('desktop support', 3), ('desktop', 3), ('support technician', 2), ('service engineer', 2), ('network engineer intern', 2), ('network administrator', 2), ('level support', 2), ('intern', 2), ('infrastructure', 2), ('entry level support', 2), ('engineer intern', 2), ('desk', 2), ('computer network', 2), ('zoom phone', 1), ('zoom', 1), ('wiring', 1), ('week', 1), ('voltage wiring', 1), ('voltage', 1), ('trainer part time', 1), ('trainer part', 1), ('trainer', 1), ('time', 1), ('tier help desk technician', 1), ('tier help desk', 1), ('tier help', 1), ('tier', 1), ('technology technician', 1), ('technology support specialist', 1), ('technology support', 1)] \n",
      "\n",
      "\n",
      " OperationsLogistics&E-Commerce -----> Operations_Logistics_&_E-Commerce_172_records.csv \n",
      "\n",
      "[('logistic', 81), ('supply', 60), ('chain', 57), ('supply chain', 56), ('operation', 50), ('manager', 47), ('analyst', 26), ('specialist', 24), ('operation logistic', 16), ('logistic analyst', 13), ('director', 13), ('transportation', 11), ('coordinator', 11), ('supply chain specialist', 9), ('logistic specialist', 9), ('chain specialist', 9), ('supply chain manager', 8), ('planning', 8), ('chain manager', 8), ('manager supply chain', 7), ('manager supply', 7), ('logistic manager', 7), ('director logistic', 7), ('supply chain strategist', 6), ('strategist', 6), ('logistic coordinator', 6), ('chain strategist', 6), ('supply chain operation', 5), ('process', 5), ('director operation', 5), ('chain operation', 5), ('analyst logistic', 5), ('amp', 5), ('supply chain analyst', 4), ('process manager', 4), ('manager operation', 4), ('manager logistic', 4), ('management', 4), ('logistic operation', 4), ('chain analyst', 4), ('vice', 3), ('transportation operation', 3), ('transformation', 3), ('program manager', 3), ('program', 3), ('planning manager', 3), ('operation manager', 3), ('operation logistic manager', 3), ('operation logistic analyst', 3), ('manager transportation', 3)] \n",
      "\n",
      "\n",
      " Pre-Law&LegalStudies -----> Pre-Law_&_Legal_Studies_169_records.csv \n",
      "\n",
      "[('counsel', 23), ('contract', 23), ('specialist', 22), ('assistant', 21), ('amp', 18), ('manager', 16), ('operation', 14), ('law', 13), ('litigation', 12), ('fraud', 12), ('investigator', 11), ('contract specialist', 11), ('fraud operation', 10), ('amp fraud operation', 10), ('amp fraud', 10), ('service', 9), ('government contract specialist', 9), ('government contract', 9), ('government', 9), ('compliance', 9), ('analyst', 8), ('law firm', 6), ('firm', 6), ('entry', 6), ('datum', 6), ('project manager', 5), ('project', 5), ('prelaw', 5), ('litigation project manager', 5), ('litigation project', 5), ('litigation counsel', 5), ('law firm litigation project manager', 5), ('law firm litigation project', 5), ('law firm litigation', 5), ('grant', 5), ('firm litigation project manager', 5), ('firm litigation project', 5), ('firm litigation', 5), ('research', 4), ('prelitigation', 4), ('level', 4), ('internship', 4), ('director', 4), ('datum entry', 4), ('contract manager', 4), ('case manager', 4), ('case', 4), ('billing specialist', 4), ('billing', 4), ('team', 3)] \n",
      "\n",
      "\n",
      " EarlyChildhoodEducation -----> Early_Childhood_Education_66_records.csv \n",
      "\n",
      "[('education', 27), ('coordinator', 20), ('program', 16), ('director', 13), ('childhood', 12), ('manager', 11), ('specialist', 9), ('program manager', 7), ('education coordinator', 7), ('director childhood', 6), ('childhood education', 6), ('education program manager', 5), ('education program', 5), ('director childhood education', 5), ('consultant', 5), ('learning', 4), ('center', 4), ('resource coordinator', 3), ('resource', 3), ('program specialist', 3), ('program coordinator', 3), ('policy', 3), ('family resource coordinator', 3), ('family resource', 3), ('family', 3), ('engagement', 3), ('development', 3), ('associate', 3), ('youth', 2), ('service', 2), ('project manager', 2), ('project', 2), ('inee coordinator education', 2), ('inee coordinator', 2), ('inee', 2), ('experience specialist', 2), ('experience', 2), ('education director', 2), ('coordinator education', 2), ('community', 2), ('child', 2), ('advocacy consultant', 2), ('advocacy', 2), ('youth program manager', 1), ('youth program', 1), ('welfarefoster care center labor service', 1), ('welfarefoster care center labor', 1), ('welfarefoster care center', 1), ('welfarefoster care', 1), ('welfarefoster', 1)] \n",
      "\n",
      "\n",
      " ComputerInformationSystems -----> Computer___Information_Systems_69_records.csv \n",
      "\n",
      "[('computer', 38), ('support', 15), ('engineer', 15), ('technician', 14), ('level', 14), ('entry level', 11), ('entry', 11), ('network', 10), ('specialist', 9), ('network engineer', 8), ('network engineer entry level', 7), ('network engineer entry', 7), ('engineer entry level', 7), ('engineer entry', 7), ('computer technician', 7), ('computer support', 6), ('system', 5), ('software', 5), ('technology', 4), ('support specialist', 4), ('information technology', 4), ('information', 4), ('system administrator', 3), ('repair', 3), ('programmer', 3), ('operator', 3), ('computer system', 3), ('computer support specialist', 3), ('computer repair', 3), ('computer programmer', 3), ('computer operator', 3), ('computer engineer', 3), ('administrator', 3), ('user support', 2), ('user', 2), ('tech', 2), ('support technician', 2), ('support analyst', 2), ('software engineer', 2), ('software developer', 2), ('shift', 2), ('repair technician', 2), ('helpdesk', 2), ('developer', 2), ('desk', 2), ('computer user support', 2), ('computer user', 2), ('computer system administrator', 2), ('computer repair technician', 2), ('computer network', 2)] \n",
      "\n",
      "\n",
      " ClinicalPsychology -----> Clinical_Psychology_73_records.csv \n",
      "\n",
      "[('health', 28), ('specialist', 17), ('research', 17), ('specialist health', 9), ('outreach specialist health', 8), ('outreach specialist', 8), ('outreach', 8), ('assistant', 8), ('psychology', 7), ('coordinator', 7), ('associate', 6), ('scientist', 5), ('research assistant', 5), ('consultant', 5), ('care', 5), ('specialist employer health', 4), ('specialist employer', 4), ('health specialist employer health', 4), ('health specialist employer', 4), ('health specialist', 4), ('employer health', 4), ('employer', 4), ('research asst', 3), ('program', 3), ('intervention', 3), ('intern', 3), ('asst', 3), ('time', 2), ('support', 2), ('specialist intervention', 2), ('research specialist intervention', 2), ('research specialist', 2), ('research coordinator', 2), ('psychometrist', 2), ('psychology intern', 2), ('psychology associate', 2), ('part time', 2), ('part', 2), ('outpatient', 2), ('health consultant', 2), ('health care advocate', 2), ('health care', 2), ('clinician', 2), ('clinic', 2), ('case care coordinator', 2), ('case care', 2), ('case', 2), ('care coordinator', 2), ('care advocate', 2), ('advocate', 2)] \n",
      "\n",
      "\n",
      " Statistics&DecisionScience -----> Statistics_&_Decision_Science_169_records.csv \n",
      "\n",
      "[('scientist', 76), ('data', 74), ('data scientist', 62), ('analyst', 54), ('datum', 33), ('research', 24), ('datum analyst', 11), ('data analyst', 11), ('associate', 11), ('researcher', 10), ('research analyst', 9), ('science', 8), ('analytic', 8), ('level', 7), ('datum scientist', 7), ('entry level', 6), ('entry', 6), ('datum science', 6), ('statistic', 5), ('scientist commercial', 5), ('research datum', 5), ('level associate data scientist commercial', 5), ('level associate data scientist', 5), ('level associate data', 5), ('level associate', 5), ('entry level associate data scientist', 5), ('entry level associate data', 5), ('entry level associate', 5), ('data scientist commercial', 5), ('commercial', 5), ('associate data scientist commercial', 5), ('associate data scientist', 5), ('associate data', 5), ('time', 3), ('study', 3), ('scientist analytic', 3), ('research associate', 3), ('market', 3), ('internship', 3), ('intern', 3), ('group', 3), ('grad', 3), ('assistant', 3), ('telecommute', 2), ('scientist time', 2), ('scientist telecommute', 2), ('scientist statistic', 2), ('science analyst', 2), ('research scientist', 2), ('research datum scientist', 2)] \n",
      "\n",
      "\n",
      " ManagementInformationSystems -----> Management_Information_Systems_24_records.csv \n",
      "\n",
      "[('information', 14), ('manager', 10), ('technology', 9), ('information technology', 9), ('system', 8), ('information system', 5), ('management', 4), ('director', 4), ('vice', 3), ('operation', 3), ('management information system', 3), ('management information', 3), ('vice information technology', 2), ('vice information', 2), ('system specialist', 2), ('system manager', 2), ('specialist', 2), ('service', 2), ('management information system specialist', 2), ('infrastructure', 2), ('information system specialist', 2), ('information system manager', 2), ('director information technology', 2), ('director information', 2), ('vice infrastructure service', 1), ('vice infrastructure', 1), ('vice information technology infrastructure', 1), ('technology project manager', 1), ('technology project', 1), ('technology manager', 1), ('technology infrastructure', 1), ('technology desk support', 1), ('technology desk', 1), ('technology analyst', 1), ('system operation', 1), ('system engineering manager', 1), ('system engineering', 1), ('system administrator', 1), ('support', 1), ('service management', 1), ('schedule', 1), ('project manager', 1), ('project', 1), ('operation manager', 1), ('manager operation', 1), ('manager information technology', 1), ('manager information', 1), ('infrastructure service', 1), ('information technology project manager', 1), ('information technology project', 1)] \n",
      "\n",
      "\n",
      " PublicAdministration -----> Public_Administration_24_records.csv \n",
      "\n",
      "[('coordinator', 5), ('assistant', 5), ('program', 3), ('policy', 3), ('amp', 3), ('affair', 3), ('administrator', 3), ('program assistant', 2), ('officer', 2), ('investigator amp access', 2), ('investigator amp', 2), ('investigator', 2), ('housing', 2), ('government affair', 2), ('government', 2), ('background investigator amp access', 2), ('background investigator amp', 2), ('background investigator', 2), ('background', 2), ('amp access', 2), ('access', 2), ('view', 1), ('time', 1), ('staff officer entry expert level', 1), ('staff officer entry expert', 1), ('staff officer entry', 1), ('staff officer', 1), ('staff', 1), ('spring', 1), ('response intelligence officer', 1), ('response intelligence', 1), ('response', 1), ('researcher', 1), ('project coordinator housing', 1), ('project coordinator', 1), ('project', 1), ('program administrator', 1), ('preparedness', 1), ('policy manager', 1), ('policy internship spring', 1), ('policy internship', 1), ('policy analyst amp community liaison', 1), ('policy analyst amp community', 1), ('policy analyst amp', 1), ('policy analyst', 1), ('planner', 1), ('officer entry expert level', 1), ('officer entry expert', 1), ('officer entry', 1), ('mountain view', 1)] \n",
      "\n",
      "\n",
      " ComputerManagementSecurity -----> Computer_Management___Security_66_records.csv \n",
      "\n",
      "[('support', 15), ('technology', 14), ('information technology', 12), ('information', 12), ('system', 9), ('engineer', 9), ('specialist', 8), ('solution', 8), ('analyst', 8), ('technician', 6), ('support analyst', 5), ('manager', 5), ('support specialist', 4), ('service', 4), ('desktop support', 4), ('desktop', 4), ('desk', 4), ('system administrator', 3), ('level', 3), ('entry level', 3), ('entry', 3), ('administrator', 3), ('technology support', 2), ('technology specialist', 2), ('technology service', 2), ('technology engineer', 2), ('system engineer', 2), ('support technician', 2), ('software engineer', 2), ('software', 2), ('project', 2), ('level software engineer', 2), ('level software', 2), ('information technology support', 2), ('information technology specialist', 2), ('information technology service', 2), ('information technology engineer', 2), ('entry level software engineer', 2), ('entry level software', 2), ('director information technology', 2), ('director information', 2), ('director', 2), ('desk support', 2), ('consultant', 2), ('computer', 2), ('work', 1), ('user computer specialist', 1), ('user computer', 1), ('user', 1), ('tier help desknetwork admin', 1)] \n",
      "\n"
     ]
    }
   ],
   "source": [
    "print('###### title Based ########','\\n')    \n",
    "for j in data:\n",
    "    print('\\n',j[0],'----->',j[1],'\\n')\n",
    "    print(j[3],'\\n')   "
   ]
  },
  {
   "cell_type": "code",
   "execution_count": 14,
   "id": "33dc0aad",
   "metadata": {
    "ExecuteTime": {
     "end_time": "2021-10-16T15:47:28.543671Z",
     "start_time": "2021-10-16T15:47:28.525622Z"
    }
   },
   "outputs": [
    {
     "name": "stdout",
     "output_type": "stream",
     "text": [
      "###### description Based ######## \n",
      "\n",
      "\n",
      " CommunicationDisordersSciences -----> Communication_Disorders_Sciences_67_records.csv \n",
      "\n",
      "[('education', 219), ('student', 199), ('program', 188), ('communication', 174), ('health', 150), ('position', 146), ('experience', 132), ('job', 131), ('disorder', 130), ('science', 127), ('candidate', 125), ('research', 120), ('university', 114), ('employment', 112), ('community', 110), ('faculty', 107), ('ability', 106), ('level', 103), ('care', 102), ('work', 93), ('application', 83), ('service', 81), ('department', 78), ('patient', 72), ('information', 72), ('graduate', 72), ('communication science', 72), ('diversity', 71), ('degree', 71), ('employee', 69), ('school', 67), ('opportunity', 66), ('science disorder', 64), ('development', 64), ('communication science disorder', 64), ('skill', 62), ('status', 61), ('health care', 61), ('team', 59), ('therapy', 57), ('practice', 57), ('resource', 55), ('leadership', 55), ('function', 55), ('applicant', 55), ('year', 54), ('type', 54), ('staff', 54), ('management', 54), ('director', 54)] \n",
      "\n",
      "\n",
      " Neuroscience -----> Neuroscience_170_records.csv \n",
      "\n",
      "[('research', 588), ('experience', 420), ('team', 381), ('job', 289), ('work', 276), ('employment', 274), ('development', 266), ('neuroscience', 241), ('health', 234), ('company', 226), ('information', 225), ('datum', 214), ('disease', 213), ('level', 209), ('science', 206), ('opportunity', 203), ('position', 197), ('function', 192), ('skill', 191), ('ability', 185), ('program', 183), ('project', 180), ('industry', 177), ('technology', 175), ('north', 172), ('candidate', 169), ('type', 167), ('scientist', 153), ('biology', 151), ('study', 148), ('cell', 148), ('care', 146), ('job function', 143), ('status', 136), ('year', 135), ('employment type', 132), ('environment', 131), ('laboratory', 128), ('product', 125), ('area', 125), ('people', 122), ('world', 120), ('seniority', 119), ('seniority level', 117), ('drug', 116), ('type job function', 115), ('type job', 115), ('employment type job function', 115), ('employment type job', 115), ('employee', 114)] \n",
      "\n",
      "\n",
      " HumanResources-PersonnelManagement -----> Human_Resources-Personnel_Management_24_records.csv \n",
      "\n",
      "[('resource', 129), ('employee', 111), ('management', 78), ('job', 65), ('hr', 62), ('employment', 62), ('experience', 52), ('service', 51), ('personnel', 51), ('ability', 48), ('information', 47), ('policy', 45), ('work', 42), ('team', 41), ('business', 40), ('program', 39), ('position', 39), ('company', 39), ('duty', 36), ('procedure', 34), ('knowledge', 34), ('year', 33), ('skill', 33), ('process', 31), ('function', 30), ('training', 29), ('office', 29), ('level', 29), ('benefit', 29), ('law', 28), ('responsibility', 27), ('performance', 27), ('support', 26), ('department', 26), ('qualification', 25), ('type', 24), ('requirement', 23), ('compensation', 22), ('communication', 22), ('system', 20), ('state', 20), ('datum', 20), ('compliance', 20), ('time', 19), ('organization', 19), ('environment', 19), ('customer', 19), ('task', 18), ('relation', 18), ('orientation', 18)] \n",
      "\n",
      "\n",
      " ComputerScience -----> Computer_Science_71_records.csv \n",
      "\n",
      "[('work', 204), ('technology', 200), ('experience', 171), ('software', 161), ('computer', 142), ('team', 138), ('engineering', 138), ('world', 134), ('business', 131), ('development', 129), ('job', 119), ('system', 115), ('employment', 113), ('science', 110), ('opportunity', 109), ('internship', 106), ('information', 106), ('application', 105), ('program', 103), ('industry', 90), ('company', 89), ('skill', 88), ('solution', 86), ('environment', 84), ('design', 83), ('level', 82), ('service', 77), ('ability', 73), ('status', 71), ('product', 71), ('function', 70), ('employee', 69), ('type', 68), ('time', 66), ('datum', 66), ('computer science', 65), ('career', 62), ('requirement', 61), ('position', 59), ('knowledge', 59), ('job function', 57), ('information technology', 57), ('employment type', 56), ('intern', 55), ('seniority level', 53), ('seniority', 53), ('gender', 53), ('also', 53), ('employer', 49), ('project', 48)] \n",
      "\n",
      "\n",
      " CommunicationTechnologies -----> Communication_Technologies_62_records.csv \n",
      "\n",
      "[('communication', 450), ('technology', 250), ('experience', 240), ('team', 186), ('work', 179), ('system', 164), ('ability', 142), ('job', 140), ('project', 134), ('business', 133), ('information', 126), ('management', 121), ('employee', 118), ('level', 114), ('employment', 103), ('medium', 101), ('strategy', 100), ('service', 97), ('skill', 88), ('development', 87), ('position', 86), ('year', 85), ('support', 84), ('opportunity', 84), ('knowledge', 84), ('industry', 82), ('design', 79), ('company', 79), ('environment', 78), ('content', 77), ('solution', 76), ('function', 75), ('organization', 72), ('marketing', 72), ('status', 71), ('program', 68), ('application', 67), ('requirement', 65), ('platform', 64), ('brand', 64), ('engineering', 63), ('qualification', 62), ('communication technology', 62), ('role', 60), ('manager', 59), ('responsibility', 58), ('type', 57), ('plan', 57), ('operation', 54), ('partner', 53)] \n",
      "\n",
      "\n",
      " Accounting -----> Accounting_25_records.csv \n",
      "\n",
      "[('accounting', 125), ('team', 51), ('company', 51), ('finance', 44), ('experience', 42), ('process', 40), ('job', 38), ('work', 37), ('function', 36), ('ability', 36), ('employment', 35), ('type', 32), ('opportunity', 31), ('skill', 30), ('customer', 27), ('management', 26), ('service', 24), ('business', 24), ('year', 23), ('status', 22), ('project', 22), ('responsibility', 21), ('position', 21), ('level', 21), ('employee', 21), ('account', 21), ('report', 20), ('employment type', 20), ('support', 19), ('procedure', 19), ('information', 19), ('role', 18), ('reporting', 18), ('industry', 18), ('entry', 18), ('requirement', 17), ('people', 17), ('time', 16), ('system', 16), ('knowledge', 16), ('degree', 16), ('transaction', 15), ('statement', 15), ('policy', 15), ('organization', 15), ('gender', 15), ('change', 15), ('well', 14), ('vendor', 14), ('group', 14)] \n",
      "\n",
      "\n",
      " CriminalJusticeFireProtection -----> Criminal_Justice___Fire_Protection_66_records.csv \n",
      "\n",
      "[('investigation', 202), ('experience', 201), ('team', 198), ('law', 175), ('ability', 169), ('justice', 142), ('work', 141), ('information', 126), ('job', 123), ('skill', 122), ('datum', 118), ('enforcement', 113), ('management', 112), ('employment', 109), ('position', 103), ('law enforcement', 99), ('service', 93), ('state', 92), ('business', 90), ('level', 89), ('security', 84), ('process', 84), ('industry', 77), ('research', 76), ('type', 75), ('employee', 74), ('application', 74), ('background', 73), ('policy', 71), ('project', 70), ('operation', 69), ('year', 67), ('function', 67), ('status', 66), ('system', 65), ('degree', 65), ('report', 64), ('people', 64), ('investigator', 63), ('candidate', 63), ('organization', 61), ('analysis', 61), ('opportunity', 59), ('member', 59), ('requirement', 58), ('qualification', 58), ('program', 58), ('intelligence', 58), ('technology', 57), ('risk', 57)] \n",
      "\n",
      "\n",
      " Mathematics -----> Mathematics_173_records.csv \n",
      "\n",
      "[('datum', 523), ('experience', 427), ('team', 291), ('work', 274), ('job', 269), ('science', 257), ('research', 247), ('employment', 243), ('technology', 238), ('level', 237), ('business', 234), ('student', 215), ('ability', 208), ('information', 207), ('opportunity', 203), ('industry', 194), ('skill', 189), ('model', 183), ('analysis', 175), ('product', 170), ('data', 163), ('knowledge', 161), ('type', 157), ('development', 156), ('program', 153), ('position', 149), ('employment type', 143), ('application', 143), ('machine', 142), ('year', 140), ('function', 137), ('service', 136), ('degree', 133), ('solution', 132), ('engineering', 131), ('company', 131), ('school', 128), ('computer', 124), ('scientist', 121), ('education', 120), ('job function', 119), ('statistic', 117), ('world', 116), ('system', 114), ('project', 114), ('mathematic', 114), ('seniority level', 113), ('seniority', 113), ('learning', 111), ('candidate', 111)] \n",
      "\n",
      "\n",
      " ComputerProgrammingDataProcessing -----> Computer_Programming___Data_Processing_69_records.csv \n",
      "\n",
      "[('software', 195), ('technology', 169), ('information', 163), ('experience', 156), ('system', 147), ('computer', 143), ('work', 134), ('team', 124), ('job', 119), ('engineering', 113), ('service', 103), ('level', 94), ('employment', 87), ('application', 87), ('programming', 83), ('development', 82), ('skill', 80), ('design', 80), ('science', 78), ('business', 74), ('information technology', 73), ('world', 69), ('engineer', 69), ('industry', 64), ('opportunity', 63), ('type', 62), ('solution', 62), ('computer science', 61), ('tcs', 58), ('knowledge', 58), ('career', 57), ('status', 54), ('language', 52), ('company', 52), ('product', 51), ('employment type', 51), ('amp', 50), ('function', 49), ('environment', 48), ('customer', 48), ('client', 46), ('seniority level', 45), ('seniority', 45), ('job function', 45), ('program', 43), ('range', 42), ('employee', 42), ('type job function', 41), ('type job', 41), ('employment type job function', 41)] \n",
      "\n",
      "\n",
      " MaterialsEngineering&MaterialsScience -----> Materials_Engineering_&_Materials_Science_170_records.csv \n",
      "\n",
      "[('material', 1030), ('engineering', 507), ('process', 399), ('experience', 371), ('product', 343), ('design', 312), ('team', 309), ('work', 307), ('technology', 291), ('development', 291), ('manufacturing', 269), ('level', 254), ('job', 216), ('employment', 214), ('project', 211), ('industry', 211), ('status', 208), ('science', 196), ('skill', 186), ('company', 181), ('business', 160), ('equipment', 159), ('solution', 157), ('function', 152), ('role', 147), ('research', 145), ('engineer', 143), ('qualification', 142), ('knowledge', 141), ('opportunity', 139), ('management', 139), ('ability', 138), ('type', 136), ('year', 134), ('analysis', 133), ('test', 131), ('environment', 125), ('employment type', 125), ('material science', 120), ('job function', 118), ('requirement', 114), ('seniority level', 110), ('seniority', 110), ('responsibility', 109), ('production', 108), ('degree', 107), ('candidate', 107), ('system', 106), ('customer', 106), ('program', 104)] \n",
      "\n",
      "\n",
      " CommercialArtGraphicDesign -----> Commercial_Art___Graphic_Design_69_records.csv \n",
      "\n",
      "[('art', 289), ('team', 190), ('design', 180), ('project', 168), ('experience', 149), ('work', 144), ('production', 125), ('company', 117), ('marketing', 98), ('industry', 93), ('director', 91), ('level', 88), ('client', 87), ('development', 85), ('ability', 84), ('opportunity', 83), ('job', 82), ('management', 77), ('skill', 76), ('sonder', 74), ('year', 71), ('gallery', 69), ('estate', 68), ('employment', 68), ('communication', 68), ('value', 63), ('responsibility', 63), ('business', 63), ('product', 62), ('environment', 61), ('type', 60), ('status', 56), ('knowledge', 52), ('employment type', 52), ('studio', 51), ('service', 51), ('manager', 51), ('information', 51), ('function', 51), ('time', 50), ('position', 50), ('growth', 50), ('support', 49), ('designer', 48), ('relationship', 47), ('plan', 47), ('content', 47), ('market', 46), ('sale', 44), ('brand', 44)] \n",
      "\n",
      "\n",
      " CommunityPublicHealth -----> Community___Public_Health_61_records.csv \n",
      "\n",
      "[('community', 288), ('team', 114), ('program', 110), ('experience', 106), ('health', 101), ('service', 93), ('work', 88), ('job', 87), ('ability', 77), ('management', 67), ('level', 60), ('company', 60), ('event', 58), ('content', 57), ('organization', 55), ('employment', 54), ('communication', 53), ('skill', 50), ('relationship', 48), ('pay', 47), ('school', 44), ('position', 43), ('engagement', 43), ('type', 42), ('family', 42), ('partner', 41), ('goal', 41), ('customer', 41), ('rce', 40), ('partnership', 40), ('outreach', 40), ('member', 40), ('manager', 40), ('employment type', 40), ('year', 39), ('people', 39), ('opportunity', 39), ('student', 38), ('support', 35), ('process', 35), ('industry', 35), ('range', 34), ('meeting', 34), ('marketing', 34), ('function', 34), ('project', 33), ('operation', 33), ('knowledge', 32), ('education', 32), ('agency', 32)] \n",
      "\n",
      "\n",
      " CompositionRhetoric -----> Composition___Rhetoric_65_records.csv \n",
      "\n",
      "[('experience', 159), ('work', 157), ('ability', 132), ('team', 127), ('job', 112), ('level', 111), ('employment', 103), ('environment', 102), ('art', 91), ('skill', 85), ('knowledge', 83), ('project', 81), ('product', 81), ('information', 79), ('design', 79), ('technology', 74), ('industry', 74), ('company', 74), ('research', 73), ('opportunity', 69), ('composition', 68), ('development', 66), ('type', 65), ('game', 64), ('artist', 64), ('position', 63), ('function', 63), ('material', 60), ('quality', 58), ('production', 57), ('employment type', 56), ('year', 53), ('job function', 53), ('time', 49), ('seniority level', 49), ('seniority', 49), ('employee', 49), ('color', 49), ('candidate', 49), ('status', 47), ('software', 47), ('responsibility', 47), ('type job', 43), ('requirement', 43), ('concept', 43), ('type job function', 42), ('level employment type', 42), ('level employment', 42), ('employment type job function', 42), ('employment type job', 42)] \n",
      "\n",
      "\n",
      " Psychologist -----> Psychologist_75_records.csv \n",
      "\n",
      "[('health', 506), ('care', 371), ('service', 239), ('psychologist', 195), ('patient', 166), ('health care', 161), ('team', 143), ('practice', 143), ('work', 141), ('treatment', 140), ('experience', 135), ('level', 121), ('job', 118), ('provider', 115), ('employment', 102), ('time', 101), ('education', 100), ('child', 99), ('opportunity', 96), ('support', 89), ('program', 87), ('research', 86), ('psychology', 83), ('community', 83), ('type', 81), ('environment', 81), ('family', 77), ('student', 73), ('health care provider', 73), ('care provider', 73), ('employment type', 72), ('amp', 72), ('hospital', 71), ('group', 68), ('assessment', 68), ('outpatient', 67), ('lifestance', 66), ('industry', 66), ('position', 61), ('member', 60), ('function', 60), ('training', 58), ('adult', 58), ('staff', 57), ('seniority level', 57), ('seniority', 57), ('job function', 57), ('therapy', 56), ('office', 55), ('excellence', 54)] \n",
      "\n",
      "\n",
      " ComputerScience -----> Computer_Science_74_records.csv \n",
      "\n",
      "[('experience', 219), ('software', 167), ('technology', 161), ('team', 156), ('datum', 148), ('work', 144), ('development', 144), ('application', 116), ('computer', 113), ('business', 106), ('job', 102), ('science', 100), ('solution', 98), ('system', 94), ('design', 93), ('employment', 91), ('information', 90), ('engineering', 88), ('skill', 82), ('service', 78), ('opportunity', 78), ('level', 75), ('program', 74), ('knowledge', 73), ('product', 71), ('ability', 70), ('industry', 69), ('type', 68), ('information technology', 61), ('environment', 59), ('requirement', 58), ('employment type', 56), ('company', 56), ('function', 55), ('developer', 54), ('computer science', 54), ('code', 54), ('engineer', 53), ('world', 52), ('project', 51), ('degree', 51), ('status', 50), ('support', 48), ('job function', 46), ('role', 45), ('customer', 45), ('test', 44), ('seniority level', 44), ('seniority', 44), ('year', 42)] \n",
      "\n",
      "\n",
      " MechanicalEngineering -----> Mechanical_Engineering_175_records.csv \n",
      "\n",
      "[('engineering', 831), ('design', 598), ('team', 483), ('experience', 453), ('work', 420), ('product', 391), ('technology', 347), ('system', 298), ('job', 281), ('employment', 264), ('level', 259), ('project', 256), ('information', 256), ('development', 250), ('engineer', 248), ('industry', 233), ('process', 214), ('internship', 207), ('program', 199), ('opportunity', 191), ('status', 188), ('manufacturing', 187), ('type', 182), ('solution', 180), ('skill', 177), ('function', 175), ('environment', 175), ('people', 170), ('company', 167), ('customer', 165), ('requirement', 160), ('information technology', 159), ('employment type', 159), ('service', 155), ('equipment', 154), ('job function', 150), ('year', 147), ('seniority level', 144), ('seniority', 144), ('position', 142), ('test', 138), ('world', 137), ('ability', 135), ('disability', 130), ('gender', 128), ('business', 126), ('group', 124), ('part', 121), ('communication', 119), ('qualification', 117)] \n",
      "\n",
      "\n",
      " ComputerEngineering -----> Computer_Engineering_69_records.csv \n",
      "\n",
      "[('software', 230), ('experience', 190), ('system', 180), ('team', 176), ('technology', 164), ('work', 162), ('development', 150), ('computer', 143), ('design', 126), ('engineering', 114), ('world', 108), ('application', 102), ('information', 99), ('product', 94), ('service', 90), ('job', 90), ('skill', 81), ('business', 79), ('environment', 76), ('employment', 75), ('ability', 75), ('science', 72), ('opportunity', 70), ('solution', 68), ('type', 66), ('level', 66), ('requirement', 64), ('internship', 61), ('client', 60), ('tool', 59), ('computer science', 59), ('program', 57), ('knowledge', 57), ('career', 56), ('developer', 54), ('information technology', 52), ('range', 50), ('also', 48), ('test', 47), ('function', 47), ('employment type', 47), ('industry', 46), ('company', 46), ('engineer', 45), ('code', 44), ('support', 43), ('programming', 43), ('methodology', 43), ('amp', 42), ('seniority level', 41)] \n",
      "\n",
      "\n",
      " Marketing&MarketingResearch -----> Marketing_&_Marketing_Research_25_records.csv \n",
      "\n",
      "[('marketing', 150), ('team', 95), ('experience', 89), ('campaign', 64), ('brand', 64), ('project', 45), ('strategy', 44), ('business', 39), ('partner', 37), ('people', 35), ('job', 35), ('execution', 35), ('communication', 35), ('management', 34), ('company', 34), ('level', 33), ('employment', 31), ('product', 30), ('type', 28), ('work', 26), ('status', 26), ('role', 26), ('medium', 26), ('function', 26), ('disability', 25), ('consumer', 25), ('year', 24), ('opportunity', 24), ('skill', 23), ('production', 23), ('amp', 23), ('industry', 22), ('customer', 22), ('gender', 21), ('channel', 21), ('type job function', 20), ('type job', 20), ('seniority level', 20), ('seniority', 20), ('job function', 20), ('employment type job function', 20), ('employment type job', 20), ('employment type', 20), ('email', 20), ('ability', 20), ('service', 19), ('project management', 19), ('process', 19), ('level employment type job function', 19), ('level employment type job', 19)] \n",
      "\n",
      "\n",
      " ConstructionServices -----> Construction_Services_71_records.csv \n",
      "\n",
      "[('project', 406), ('construction', 313), ('management', 254), ('service', 237), ('experience', 188), ('business', 150), ('work', 145), ('ability', 145), ('team', 144), ('development', 125), ('operation', 122), ('job', 113), ('manager', 110), ('facility', 107), ('company', 98), ('year', 95), ('level', 88), ('industry', 88), ('staff', 85), ('process', 83), ('skill', 82), ('customer', 79), ('function', 77), ('contract', 75), ('employment', 73), ('budget', 73), ('plan', 72), ('program', 71), ('type', 65), ('responsibility', 65), ('design', 65), ('employee', 64), ('building', 64), ('activity', 64), ('opportunity', 63), ('knowledge', 62), ('engineering', 61), ('time', 60), ('position', 60), ('property', 58), ('safety', 56), ('system', 54), ('requirement', 54), ('site', 52), ('schedule', 52), ('insurance', 52), ('project management', 51), ('employment type', 51), ('degree', 51), ('maintenance', 50)] \n",
      "\n",
      "\n",
      " ComputerNetworkingTelecommunications -----> Computer_Networking___Telecommunications_67_records.csv \n",
      "\n",
      "[('network', 252), ('technology', 197), ('experience', 183), ('system', 165), ('computer', 145), ('information', 139), ('service', 134), ('support', 118), ('level', 112), ('customer', 109), ('work', 102), ('team', 101), ('software', 92), ('job', 90), ('business', 86), ('information technology', 83), ('employment', 82), ('ability', 79), ('knowledge', 77), ('skill', 74), ('issue', 74), ('environment', 74), ('company', 70), ('position', 66), ('industry', 65), ('security', 64), ('networking', 64), ('year', 63), ('solution', 61), ('management', 60), ('type', 59), ('infrastructure', 58), ('function', 56), ('engineering', 53), ('employment type', 53), ('degree', 53), ('opportunity', 52), ('hardware', 52), ('problem', 51), ('responsibility', 47), ('seniority level', 45), ('seniority', 45), ('job function', 45), ('user', 44), ('requirement', 44), ('role', 43), ('office', 43), ('type job function', 41), ('type job', 41), ('training', 41)] \n",
      "\n",
      "\n",
      " OperationsLogistics&E-Commerce -----> Operations_Logistics_&_E-Commerce_172_records.csv \n",
      "\n",
      "[('supply', 561), ('team', 518), ('chain', 505), ('experience', 495), ('supply chain', 469), ('management', 469), ('operation', 459), ('logistic', 446), ('business', 434), ('customer', 313), ('level', 263), ('process', 254), ('service', 241), ('job', 234), ('company', 223), ('work', 222), ('ability', 211), ('industry', 210), ('inventory', 209), ('employment', 201), ('product', 194), ('function', 194), ('skill', 188), ('opportunity', 183), ('year', 175), ('planning', 168), ('role', 162), ('partner', 155), ('type', 152), ('status', 152), ('strategy', 151), ('technology', 149), ('environment', 145), ('amp', 145), ('transportation', 140), ('project', 140), ('order', 136), ('datum', 133), ('solution', 130), ('manufacturing', 129), ('employment type', 128), ('delivery', 128), ('degree', 128), ('job function', 124), ('improvement', 123), ('type job', 122), ('performance', 122), ('cost', 122), ('type job function', 121), ('seniority level', 121)] \n",
      "\n",
      "\n",
      " Pre-Law&LegalStudies -----> Pre-Law_&_Legal_Studies_169_records.csv \n",
      "\n",
      "[('experience', 417), ('law', 367), ('work', 319), ('service', 309), ('contract', 282), ('business', 277), ('team', 276), ('job', 275), ('ability', 241), ('level', 234), ('information', 233), ('skill', 225), ('employment', 225), ('management', 217), ('company', 208), ('client', 199), ('position', 194), ('industry', 175), ('type', 164), ('year', 163), ('process', 163), ('function', 155), ('compliance', 154), ('research', 153), ('employee', 153), ('project', 152), ('policy', 145), ('review', 141), ('responsibility', 139), ('knowledge', 139), ('issue', 137), ('communication', 134), ('department', 132), ('document', 130), ('customer', 129), ('application', 129), ('program', 128), ('technology', 126), ('government', 126), ('opportunity', 124), ('office', 124), ('employment type', 124), ('fraud', 122), ('support', 121), ('job function', 121), ('procedure', 120), ('requirement', 118), ('status', 117), ('duty', 117), ('member', 116)] \n",
      "\n",
      "\n",
      " EarlyChildhoodEducation -----> Early_Childhood_Education_66_records.csv \n",
      "\n",
      "[('child', 328), ('education', 303), ('experience', 210), ('work', 198), ('program', 196), ('family', 165), ('development', 159), ('service', 145), ('team', 144), ('community', 135), ('school', 129), ('support', 121), ('opportunity', 115), ('childhood', 113), ('job', 107), ('employment', 105), ('ability', 104), ('management', 100), ('skill', 97), ('position', 97), ('level', 96), ('staff', 95), ('project', 89), ('policy', 83), ('organization', 77), ('employee', 77), ('director', 75), ('resource', 72), ('health', 72), ('state', 71), ('plan', 68), ('care', 68), ('year', 67), ('training', 67), ('advocacy', 67), ('type', 64), ('activity', 64), ('information', 63), ('degree', 63), ('research', 62), ('function', 62), ('knowledge', 61), ('responsibility', 59), ('area', 58), ('classroom', 57), ('communication', 56), ('gender', 53), ('time', 52), ('coordinator', 52), ('status', 51)] \n",
      "\n",
      "\n",
      " ComputerInformationSystems -----> Computer___Information_Systems_69_records.csv \n",
      "\n",
      "[('computer', 192), ('technology', 155), ('software', 144), ('experience', 125), ('network', 124), ('system', 123), ('support', 122), ('level', 109), ('service', 106), ('information', 101), ('job', 98), ('ability', 97), ('customer', 76), ('information technology', 75), ('hardware', 73), ('application', 71), ('skill', 70), ('work', 69), ('employment', 69), ('position', 68), ('client', 68), ('team', 64), ('solution', 61), ('function', 61), ('user', 59), ('type', 59), ('project', 59), ('training', 57), ('industry', 57), ('business', 57), ('knowledge', 55), ('employment type', 53), ('company', 53), ('office', 48), ('year', 47), ('issue', 47), ('communication', 46), ('security', 44), ('problem', 44), ('environment', 43), ('seniority', 42), ('equipment', 42), ('development', 42), ('seniority level', 41), ('pay', 41), ('job function', 41), ('time', 39), ('responsibility', 39), ('management', 39), ('type job function', 38)] \n",
      "\n",
      "\n",
      " ClinicalPsychology -----> Clinical_Psychology_73_records.csv \n",
      "\n",
      "[('health', 433), ('care', 308), ('experience', 207), ('service', 178), ('team', 148), ('work', 144), ('treatment', 133), ('member', 127), ('employment', 125), ('program', 118), ('opportunity', 117), ('health care', 116), ('level', 114), ('research', 113), ('psychology', 106), ('ability', 99), ('job', 98), ('provider', 89), ('family', 89), ('patient', 79), ('information', 75), ('employee', 75), ('client', 75), ('type', 72), ('company', 72), ('plan', 71), ('year', 70), ('function', 69), ('degree', 65), ('industry', 64), ('group', 63), ('skill', 61), ('employment type', 61), ('field', 58), ('life', 57), ('status', 56), ('job function', 55), ('community', 55), ('communication', 55), ('seniority level', 53), ('seniority', 53), ('hospital', 53), ('well', 52), ('healthcare', 51), ('child', 51), ('benefit', 51), ('responsibility', 50), ('time', 49), ('type job function', 47), ('type job', 47)] \n",
      "\n",
      "\n",
      " Statistics&DecisionScience -----> Statistics_&_Decision_Science_169_records.csv \n",
      "\n",
      "[('datum', 787), ('experience', 403), ('team', 363), ('work', 275), ('analysis', 261), ('data', 247), ('research', 244), ('business', 240), ('science', 228), ('job', 218), ('information', 205), ('ability', 197), ('employment', 194), ('model', 193), ('skill', 187), ('technology', 184), ('opportunity', 168), ('level', 166), ('industry', 154), ('company', 154), ('type', 141), ('service', 138), ('health', 138), ('product', 136), ('project', 135), ('year', 130), ('development', 127), ('function', 126), ('scientist', 124), ('employment type', 118), ('analyst', 117), ('analytic', 116), ('solution', 114), ('knowledge', 113), ('insight', 112), ('environment', 106), ('information technology', 105), ('computer', 105), ('client', 104), ('tool', 103), ('statistic', 100), ('engineering', 100), ('status', 99), ('job function', 99), ('world', 98), ('problem', 98), ('seniority level', 96), ('seniority', 96), ('range', 96), ('role', 95)] \n",
      "\n",
      "\n",
      " ManagementInformationSystems -----> Management_Information_Systems_24_records.csv \n",
      "\n",
      "[('system', 117), ('management', 109), ('experience', 102), ('service', 94), ('team', 90), ('technology', 88), ('project', 85), ('information', 80), ('business', 61), ('operation', 54), ('level', 54), ('support', 52), ('software', 52), ('development', 50), ('job', 44), ('strategy', 43), ('work', 42), ('skill', 41), ('ability', 40), ('security', 39), ('organization', 39), ('computer', 36), ('network', 34), ('information technology', 34), ('employment', 34), ('knowledge', 33), ('year', 31), ('product', 31), ('process', 31), ('infrastructure', 31), ('company', 31), ('solution', 30), ('partner', 30), ('function', 30), ('application', 29), ('staff', 27), ('center', 27), ('problem', 26), ('plan', 26), ('information system', 26), ('industry', 26), ('customer', 26), ('requirement', 25), ('position', 25), ('department', 25), ('responsibility', 24), ('degree', 24), ('manager', 23), ('datum', 23), ('communication', 23)] \n",
      "\n",
      "\n",
      " PublicAdministration -----> Public_Administration_24_records.csv \n",
      "\n",
      "[('experience', 102), ('position', 101), ('work', 78), ('policy', 71), ('information', 70), ('ability', 67), ('management', 64), ('team', 60), ('year', 55), ('service', 53), ('degree', 51), ('application', 50), ('level', 47), ('job', 46), ('skill', 42), ('support', 41), ('program', 41), ('project', 40), ('employment', 39), ('development', 37), ('administration', 37), ('qualification', 35), ('business', 35), ('grant', 34), ('government', 33), ('process', 32), ('knowledge', 31), ('candidate', 31), ('communication', 30), ('time', 29), ('research', 28), ('requirement', 28), ('security', 27), ('investigation', 27), ('field', 25), ('year experience', 24), ('system', 24), ('staff', 24), ('responsibility', 24), ('range', 24), ('function', 24), ('employee', 24), ('also', 23), ('organization', 22), ('issue', 22), ('industry', 22), ('environment', 22), ('education', 22), ('background', 22), ('salary', 21)] \n",
      "\n",
      "\n",
      " ComputerManagementSecurity -----> Computer_Management___Security_66_records.csv \n",
      "\n",
      "[('system', 234), ('technology', 190), ('experience', 176), ('customer', 142), ('service', 140), ('information', 136), ('support', 127), ('computer', 126), ('management', 119), ('ability', 114), ('level', 112), ('knowledge', 90), ('software', 89), ('information technology', 88), ('team', 86), ('skill', 85), ('job', 84), ('year', 82), ('product', 81), ('solution', 78), ('work', 74), ('company', 72), ('user', 66), ('network', 64), ('engineering', 63), ('issue', 62), ('industry', 62), ('employment', 61), ('application', 60), ('function', 58), ('video', 57), ('security', 57), ('communication', 56), ('business', 55), ('type', 51), ('opportunity', 51), ('project', 50), ('problem', 50), ('environment', 49), ('time', 48), ('employment type', 48), ('equipment', 46), ('responsibility', 45), ('requirement', 45), ('development', 43), ('hardware', 42), ('sale', 41), ('infrastructure', 40), ('employee', 40), ('design', 40)] \n",
      "\n"
     ]
    }
   ],
   "source": [
    "print('###### description Based ########','\\n')    \n",
    "for j in data:\n",
    "    print('\\n',j[0],'----->',j[1],'\\n')\n",
    "    print(j[2],'\\n')    \n"
   ]
  },
  {
   "cell_type": "code",
   "execution_count": null,
   "id": "ef306a24",
   "metadata": {
    "ExecuteTime": {
     "end_time": "2021-10-12T04:57:27.265866Z",
     "start_time": "2021-10-12T04:57:27.254637Z"
    }
   },
   "outputs": [],
   "source": [
    " "
   ]
  },
  {
   "cell_type": "code",
   "execution_count": null,
   "id": "f7ddf27f",
   "metadata": {
    "ExecuteTime": {
     "end_time": "2021-10-12T04:27:31.569201Z",
     "start_time": "2021-10-12T04:27:31.555169Z"
    }
   },
   "outputs": [],
   "source": []
  },
  {
   "cell_type": "code",
   "execution_count": null,
   "id": "4095e2c3",
   "metadata": {
    "ExecuteTime": {
     "end_time": "2021-10-12T04:31:07.554889Z",
     "start_time": "2021-10-12T04:31:03.261654Z"
    }
   },
   "outputs": [],
   "source": []
  },
  {
   "cell_type": "code",
   "execution_count": null,
   "id": "c3b38a71",
   "metadata": {
    "ExecuteTime": {
     "end_time": "2021-10-12T04:31:07.560300Z",
     "start_time": "2021-10-12T04:31:07.556153Z"
    }
   },
   "outputs": [],
   "source": []
  },
  {
   "cell_type": "code",
   "execution_count": null,
   "id": "e204047b",
   "metadata": {
    "ExecuteTime": {
     "end_time": "2021-10-12T04:27:34.193854Z",
     "start_time": "2021-10-12T04:27:34.183088Z"
    }
   },
   "outputs": [],
   "source": []
  },
  {
   "cell_type": "code",
   "execution_count": null,
   "id": "2080daff",
   "metadata": {
    "ExecuteTime": {
     "end_time": "2021-10-12T04:39:08.914181Z",
     "start_time": "2021-10-12T04:39:08.882512Z"
    }
   },
   "outputs": [],
   "source": []
  },
  {
   "cell_type": "code",
   "execution_count": null,
   "id": "dfc670c5",
   "metadata": {
    "ExecuteTime": {
     "end_time": "2021-10-12T04:36:15.930219Z",
     "start_time": "2021-10-12T04:36:15.927047Z"
    }
   },
   "outputs": [],
   "source": []
  },
  {
   "cell_type": "code",
   "execution_count": null,
   "id": "31223fca",
   "metadata": {},
   "outputs": [],
   "source": []
  },
  {
   "cell_type": "code",
   "execution_count": null,
   "id": "522c3985",
   "metadata": {
    "ExecuteTime": {
     "end_time": "2021-10-12T04:18:12.557420Z",
     "start_time": "2021-10-12T04:18:08.666975Z"
    }
   },
   "outputs": [],
   "source": []
  },
  {
   "cell_type": "code",
   "execution_count": null,
   "id": "5823e9a7",
   "metadata": {},
   "outputs": [],
   "source": [
    "\n"
   ]
  },
  {
   "cell_type": "code",
   "execution_count": null,
   "id": "199ab9a6",
   "metadata": {},
   "outputs": [],
   "source": []
  },
  {
   "cell_type": "code",
   "execution_count": null,
   "id": "a0e3c191",
   "metadata": {},
   "outputs": [],
   "source": []
  },
  {
   "cell_type": "code",
   "execution_count": null,
   "id": "fa50a55b",
   "metadata": {},
   "outputs": [],
   "source": []
  },
  {
   "cell_type": "code",
   "execution_count": null,
   "id": "1f2fd50a",
   "metadata": {},
   "outputs": [],
   "source": []
  }
 ],
 "metadata": {
  "hide_input": false,
  "kernelspec": {
   "display_name": "Python 3",
   "language": "python",
   "name": "python3"
  },
  "language_info": {
   "codemirror_mode": {
    "name": "ipython",
    "version": 3
   },
   "file_extension": ".py",
   "mimetype": "text/x-python",
   "name": "python",
   "nbconvert_exporter": "python",
   "pygments_lexer": "ipython3",
   "version": "3.6.9"
  },
  "toc": {
   "base_numbering": 1,
   "nav_menu": {},
   "number_sections": true,
   "sideBar": true,
   "skip_h1_title": false,
   "title_cell": "Table of Contents",
   "title_sidebar": "Contents",
   "toc_cell": false,
   "toc_position": {},
   "toc_section_display": true,
   "toc_window_display": false
  }
 },
 "nbformat": 4,
 "nbformat_minor": 5
}
