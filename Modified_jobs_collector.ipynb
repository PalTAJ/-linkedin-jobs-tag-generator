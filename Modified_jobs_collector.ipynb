{
 "cells": [
  {
   "cell_type": "code",
   "execution_count": 2,
   "metadata": {
    "ExecuteTime": {
     "end_time": "2021-10-17T12:35:13.568771Z",
     "start_time": "2021-10-17T12:35:13.190615Z"
    }
   },
   "outputs": [],
   "source": [
    "import  requests \n",
    "import pandas as pd\n",
    "\n",
    "from urllib.error import URLError, HTTPError\n",
    "from urllib3.exceptions import SSLError\n",
    "\n",
    "from requests.exceptions import HTTPError\n",
    "from bs4 import BeautifulSoup\n",
    "from urllib.request import urlopen, Request\n",
    "from socket import timeout\n",
    "\n",
    "from selenium import webdriver\n",
    "from selenium.webdriver.chrome.options import Options\n",
    "from selenium.webdriver.common.by import By\n",
    "from selenium.webdriver.common.keys import Keys\n",
    "from selenium.webdriver.support.ui import WebDriverWait\n",
    "from selenium.webdriver.support.expected_conditions import presence_of_element_located\n",
    "from selenium.common.exceptions import NoSuchElementException\n",
    "from selenium.webdriver.support import expected_conditions as EC\n",
    "\n",
    "import time\n",
    "import sys\n",
    "\n",
    "\n",
    "import random"
   ]
  },
  {
   "cell_type": "code",
   "execution_count": null,
   "metadata": {
    "ExecuteTime": {
     "end_time": "2021-10-08T20:48:19.796930Z",
     "start_time": "2021-10-08T20:48:19.791702Z"
    }
   },
   "outputs": [],
   "source": []
  },
  {
   "cell_type": "code",
   "execution_count": 39,
   "metadata": {
    "ExecuteTime": {
     "end_time": "2021-10-17T13:04:58.118598Z",
     "start_time": "2021-10-17T13:04:58.087905Z"
    }
   },
   "outputs": [],
   "source": [
    "class collect_jobs_data():\n",
    "    \n",
    "    def __init__(self,keywrods, driver_path,page_scroll_rate):\n",
    "        \n",
    "        self.page_scroll_rate = page_scroll_rate\n",
    "        self.keywords = keywrods\n",
    "        self.driver_path = driver_path\n",
    "        \n",
    "        self.full_url = self.process_keyword()\n",
    "        self.driver = self.iniate_selenium_driver()\n",
    "        self.number_of_jobs = self.extract_no_jobs()\n",
    "        self.links_titles = self.extract_job_links_titles()\n",
    "\n",
    "    def process_keyword(self):\n",
    "        \n",
    "        keywords = self.keywords\n",
    "        keywords2 = keywords\n",
    "        keywords = '%20'.join(keywords.split())\n",
    "        keywords2 = '_'.join(keywords2.split())\n",
    "\n",
    "        url = 'https://www.linkedin.com/jobs/search'\n",
    "        t1 = f'?keywords={keywords}&location=&geoId=&'\n",
    "        t2 = 'trk=homepage-jobseeker_jobs-search-bar_search-submit&position=1&pageNum=0'\n",
    "\n",
    "        full_url = f'{url}{t1}{t2}'\n",
    "        print(f'current Keyword: {keywords2}')\n",
    "\n",
    "        return full_url\n",
    "\n",
    "\n",
    "    def iniate_selenium_driver(self):\n",
    "        \n",
    "        \n",
    "        driver = webdriver.Chrome(executable_path= self.driver_path)\n",
    "\n",
    "        driver.set_page_load_timeout('30')\n",
    "        driver.get(self.full_url)\n",
    "        \n",
    "\n",
    "        return driver\n",
    "\n",
    "\n",
    "    def extract_no_jobs(self):\n",
    "        \n",
    "        n_jobs = self.driver.find_element_by_css_selector('h1>span').get_attribute('innerText')\n",
    "        n_jobs = n_jobs.strip(',')\n",
    "        \n",
    "        remove_lst = [',', '+', '.']\n",
    "        for i in remove_lst:\n",
    "            n_jobs = n_jobs.replace(i, '')\n",
    "\n",
    "        n_jobs = int(n_jobs)\n",
    "        print('number of jobs found : ', n_jobs)\n",
    "        return n_jobs\n",
    "\n",
    "\n",
    "    def extract_job_links_titles(self):\n",
    "        #     job_id= []\n",
    "        #     company_name = []\n",
    "        #     location = []\n",
    "        #     date = []\n",
    "\n",
    "        job_title = []\n",
    "        job_link = []\n",
    "        i = 2\n",
    "\n",
    "        # while i <= int(self.number_of_jobs/25)+1:\n",
    "        if self.number_of_jobs < self.page_scroll_rate:\n",
    "            self.page_scroll_rate = self.number_of_jobs\n",
    "            \n",
    "        while i <= int(self.page_scroll_rate / 25) + 1:\n",
    "\n",
    "            self.driver.execute_script('window.scrollTo(0, document.body.scrollHeight);')\n",
    "            i = i + 1\n",
    "            try:\n",
    "                self.driver.find_element_by_xpath('/html/body/main/div/section/button').click()\n",
    "                time.sleep(5)\n",
    "            except:\n",
    "                pass\n",
    "                time.sleep(5)\n",
    "\n",
    "        job_lists = self.driver.find_element_by_class_name('jobs-search__results-list')\n",
    "        jobs = job_lists.find_elements_by_tag_name('li')\n",
    "        len(jobs)\n",
    "\n",
    "#         jobs = jobs[:2]\n",
    "\n",
    "        for job in jobs:\n",
    "            job_title0 = job.find_element_by_css_selector('h3').get_attribute('innerText')\n",
    "            job_title.append(job_title0)\n",
    "\n",
    "            job_link0 = job.find_element_by_css_selector('a').get_attribute('href')\n",
    "            job_link.append(job_link0)\n",
    "\n",
    "        self.driver.close()\n",
    "\n",
    "        return [job_title, job_link]\n",
    "\n",
    "\n",
    "    def extract_jobs_postings(self):\n",
    "        \n",
    "        job_title,job_link = self.links_titles\n",
    "\n",
    "        jobs_details = []\n",
    "\n",
    "        for jl in job_link:\n",
    "\n",
    "            driver = webdriver.Chrome(executable_path= self.driver_path)\n",
    "            driver.set_page_load_timeout('15')\n",
    "\n",
    "            try:\n",
    "                driver.get(jl)\n",
    "\n",
    "                job_detail = driver.find_element_by_class_name('core-section-container__content').get_attribute('innerText')\n",
    "                job_title = driver.find_element_by_css_selector('h1').get_attribute('innerText')\n",
    "\n",
    "                jobs_details.append([job_title, job_detail])\n",
    "\n",
    "                driver.close()\n",
    "\n",
    "            except:\n",
    "                print(f'error in: {jl}')\n",
    "                driver.close()\n",
    "                pass\n",
    "\n",
    "        return jobs_details\n"
   ]
  },
  {
   "cell_type": "code",
   "execution_count": 40,
   "metadata": {
    "ExecuteTime": {
     "end_time": "2021-10-17T13:06:02.499904Z",
     "start_time": "2021-10-17T13:04:58.542976Z"
    }
   },
   "outputs": [
    {
     "name": "stdout",
     "output_type": "stream",
     "text": [
      "current Keyword: mathmatics\n",
      "number of jobs found :  22\n",
      "error in: https://www.linkedin.com/jobs/view/program-instructor-mathematics-at-southeast-tech-2739834827?refId=v11LV66tHZNF47TRsYZwVA%3D%3D&trackingId=QX0RN%2B4XEtqQ4Fdbw8uTTg%3D%3D&position=5&pageNum=0&trk=public_jobs_jserp-result_search-card\n",
      "jobs collected:  21\n",
      "Done\n"
     ]
    }
   ],
   "source": [
    "keywords = ['mathmatics']\n",
    "\n",
    "for keyword in keywords: \n",
    "    obj = collect_jobs_data(keyword,'selenium_p/chromedriver',500)   # keyword, driver path, no of scrolls in the page\n",
    "    job_postings = obj.extract_jobs_postings() #[[all titles], [all descriptions]]\n",
    "\n",
    "    print('jobs collected: ',len(job_postings))\n",
    "    df = pd.DataFrame(job_postings, columns =['job-title','description'])\n",
    "    df.to_csv(f'{keyword}_{len(job_postings)}_records.csv', encoding='utf-8', index=False)\n",
    "print('Done')"
   ]
  },
  {
   "cell_type": "code",
   "execution_count": null,
   "metadata": {
    "ExecuteTime": {
     "end_time": "2021-10-17T12:49:59.047516Z",
     "start_time": "2021-10-17T12:49:59.043701Z"
    }
   },
   "outputs": [],
   "source": []
  },
  {
   "cell_type": "code",
   "execution_count": null,
   "metadata": {},
   "outputs": [],
   "source": []
  },
  {
   "cell_type": "code",
   "execution_count": 27,
   "metadata": {
    "ExecuteTime": {
     "end_time": "2021-10-08T20:48:31.070244Z",
     "start_time": "2021-10-08T20:48:25.100457Z"
    }
   },
   "outputs": [],
   "source": []
  },
  {
   "cell_type": "code",
   "execution_count": 28,
   "metadata": {
    "ExecuteTime": {
     "end_time": "2021-10-08T20:48:31.077225Z",
     "start_time": "2021-10-08T20:48:31.071747Z"
    }
   },
   "outputs": [],
   "source": []
  },
  {
   "cell_type": "code",
   "execution_count": null,
   "metadata": {
    "ExecuteTime": {
     "end_time": "2021-10-08T20:49:07.778961Z",
     "start_time": "2021-10-08T20:49:07.746300Z"
    }
   },
   "outputs": [],
   "source": []
  },
  {
   "cell_type": "code",
   "execution_count": null,
   "metadata": {
    "ExecuteTime": {
     "end_time": "2021-10-03T18:44:09.567809Z",
     "start_time": "2021-10-03T18:44:09.560723Z"
    }
   },
   "outputs": [],
   "source": []
  },
  {
   "cell_type": "code",
   "execution_count": null,
   "metadata": {
    "ExecuteTime": {
     "end_time": "2021-10-08T20:49:28.318201Z",
     "start_time": "2021-10-08T20:49:28.308360Z"
    }
   },
   "outputs": [],
   "source": []
  },
  {
   "cell_type": "code",
   "execution_count": null,
   "metadata": {
    "ExecuteTime": {
     "end_time": "2021-10-03T18:44:09.897457Z",
     "start_time": "2021-10-03T18:44:09.887095Z"
    }
   },
   "outputs": [],
   "source": []
  },
  {
   "cell_type": "code",
   "execution_count": null,
   "metadata": {
    "ExecuteTime": {
     "end_time": "2021-10-03T18:44:10.418384Z",
     "start_time": "2021-10-03T18:44:10.415132Z"
    }
   },
   "outputs": [],
   "source": []
  },
  {
   "cell_type": "code",
   "execution_count": null,
   "metadata": {},
   "outputs": [],
   "source": []
  },
  {
   "cell_type": "code",
   "execution_count": null,
   "metadata": {},
   "outputs": [],
   "source": []
  }
 ],
 "metadata": {
  "hide_input": false,
  "kernelspec": {
   "display_name": "Python 3",
   "language": "python",
   "name": "python3"
  },
  "language_info": {
   "codemirror_mode": {
    "name": "ipython",
    "version": 3
   },
   "file_extension": ".py",
   "mimetype": "text/x-python",
   "name": "python",
   "nbconvert_exporter": "python",
   "pygments_lexer": "ipython3",
   "version": "3.6.9"
  },
  "toc": {
   "base_numbering": 1,
   "nav_menu": {},
   "number_sections": true,
   "sideBar": true,
   "skip_h1_title": false,
   "title_cell": "Table of Contents",
   "title_sidebar": "Contents",
   "toc_cell": false,
   "toc_position": {},
   "toc_section_display": true,
   "toc_window_display": false
  }
 },
 "nbformat": 4,
 "nbformat_minor": 4
}
