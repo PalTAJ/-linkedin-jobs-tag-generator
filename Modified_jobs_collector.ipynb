{
 "cells": [
  {
   "cell_type": "code",
   "execution_count": 11,
   "metadata": {
    "ExecuteTime": {
     "end_time": "2021-10-18T17:09:12.922865Z",
     "start_time": "2021-10-18T17:09:12.917853Z"
    }
   },
   "outputs": [],
   "source": [
    "import  requests \n",
    "import pandas as pd\n",
    "\n",
    "from urllib.error import URLError, HTTPError\n",
    "from urllib3.exceptions import SSLError\n",
    "\n",
    "from requests.exceptions import HTTPError\n",
    "from bs4 import BeautifulSoup\n",
    "from urllib.request import urlopen, Request\n",
    "from socket import timeout\n",
    "\n",
    "from selenium import webdriver\n",
    "from selenium.webdriver.chrome.options import Options\n",
    "from selenium.webdriver.common.by import By\n",
    "from selenium.webdriver.common.keys import Keys\n",
    "from selenium.webdriver.support.ui import WebDriverWait\n",
    "from selenium.webdriver.support.expected_conditions import presence_of_element_located\n",
    "from selenium.common.exceptions import NoSuchElementException\n",
    "from selenium.webdriver.support import expected_conditions as EC\n",
    "from selenium.webdriver.chrome.options import Options \n",
    "import time\n",
    "import sys\n",
    "\n",
    "\n",
    "import random"
   ]
  },
  {
   "cell_type": "code",
   "execution_count": null,
   "metadata": {
    "ExecuteTime": {
     "end_time": "2021-10-08T20:48:19.796930Z",
     "start_time": "2021-10-08T20:48:19.791702Z"
    }
   },
   "outputs": [],
   "source": []
  },
  {
   "cell_type": "code",
   "execution_count": 14,
   "metadata": {
    "ExecuteTime": {
     "end_time": "2021-10-18T18:05:39.234166Z",
     "start_time": "2021-10-18T18:05:39.220747Z"
    }
   },
   "outputs": [],
   "source": [
    "class collect_jobs_data():\n",
    "    \n",
    "    def __init__(self,keywrods, driver_path,page_scroll_rate):\n",
    "        \n",
    "        self.page_scroll_rate = page_scroll_rate\n",
    "        self.keywords = keywrods\n",
    "        self.driver_path = driver_path\n",
    "        \n",
    "        self.full_url = self.process_keyword()\n",
    "        self.driver = self.iniate_selenium_driver()\n",
    "        self.number_of_jobs = self.extract_no_jobs()\n",
    "        self.links_titles = self.extract_job_links_titles()\n",
    "\n",
    "    def process_keyword(self):\n",
    "        \n",
    "        keywords = self.keywords\n",
    "        keywords2 = keywords\n",
    "        keywords = '%20'.join(keywords.split())\n",
    "        keywords2 = '_'.join(keywords2.split())\n",
    "\n",
    "        url = 'https://www.linkedin.com/jobs/search'\n",
    "        t1 = f'?keywords={keywords}&location=&geoId=&'\n",
    "        t2 = 'trk=homepage-jobseeker_jobs-search-bar_search-submit&position=1&pageNum=0'\n",
    "\n",
    "        full_url = f'{url}{t1}{t2}'\n",
    "        print(f'current Keyword: {keywords2}')\n",
    "\n",
    "        return full_url\n",
    "\n",
    "\n",
    "    def iniate_selenium_driver(self):\n",
    "        \n",
    "        option = webdriver.ChromeOptions()\n",
    "        option.add_argument('headless')\n",
    "        driver = webdriver.Chrome(executable_path= self.driver_path,options=option)\n",
    "\n",
    "        driver.set_page_load_timeout('30')\n",
    "        driver.get(self.full_url)\n",
    "        \n",
    "\n",
    "        return driver\n",
    "\n",
    "\n",
    "    def extract_no_jobs(self):\n",
    "        \n",
    "        n_jobs = self.driver.find_element_by_css_selector('h1>span').get_attribute('innerText')\n",
    "        n_jobs = n_jobs.strip(',')\n",
    "        \n",
    "        remove_lst = [',', '+', '.']\n",
    "        for i in remove_lst:\n",
    "            n_jobs = n_jobs.replace(i, '')\n",
    "\n",
    "        n_jobs = int(n_jobs)\n",
    "        print('number of jobs found : ', n_jobs)\n",
    "        return n_jobs\n",
    "\n",
    "\n",
    "    def extract_job_links_titles(self):\n",
    "        #     job_id= []\n",
    "        #     company_name = []\n",
    "        #     location = []\n",
    "        #     date = []\n",
    "\n",
    "        job_title = []\n",
    "        job_link = []\n",
    "        i = 2\n",
    "\n",
    "        # while i <= int(self.number_of_jobs/25)+1:\n",
    "        if self.number_of_jobs < self.page_scroll_rate:\n",
    "            self.page_scroll_rate = self.number_of_jobs\n",
    "            \n",
    "        while i <= int(self.page_scroll_rate / 25) + 1:\n",
    "\n",
    "            self.driver.execute_script('window.scrollTo(0, document.body.scrollHeight);')\n",
    "            i = i + 1\n",
    "            try:\n",
    "                self.driver.find_element_by_xpath('/html/body/main/div/section/button').click()\n",
    "                time.sleep(5)\n",
    "            except:\n",
    "                pass\n",
    "                time.sleep(5)\n",
    "\n",
    "        job_lists = self.driver.find_element_by_class_name('jobs-search__results-list')\n",
    "        jobs = job_lists.find_elements_by_tag_name('li')\n",
    "        len(jobs)\n",
    "\n",
    "#         jobs = jobs[:2]\n",
    "\n",
    "        for job in jobs:\n",
    "            job_title0 = job.find_element_by_css_selector('h3').get_attribute('innerText')\n",
    "            job_title.append(job_title0)\n",
    "\n",
    "            job_link0 = job.find_element_by_css_selector('a').get_attribute('href')\n",
    "            job_link.append(job_link0)\n",
    "\n",
    "        self.driver.close()\n",
    "\n",
    "        return [job_title, job_link]\n",
    "\n",
    "\n",
    "    def extract_jobs_postings(self):\n",
    "        \n",
    "        job_title,job_link = self.links_titles\n",
    "\n",
    "        jobs_details = []\n",
    "\n",
    "        for jl in job_link:\n",
    "\n",
    "            option = webdriver.ChromeOptions()\n",
    "            option.add_argument('headless')\n",
    "            driver = webdriver.Chrome(executable_path= self.driver_path,options=option)\n",
    "            driver.set_page_load_timeout('15')\n",
    "\n",
    "            try:\n",
    "                driver.get(jl)\n",
    "\n",
    "                job_detail = driver.find_element_by_class_name('core-section-container__content').get_attribute('innerText')\n",
    "                job_title = driver.find_element_by_css_selector('h1').get_attribute('innerText')\n",
    "\n",
    "                jobs_details.append([job_title, job_detail])\n",
    "\n",
    "                driver.close()\n",
    "\n",
    "            except:\n",
    "#                 print(f'error in: {jl}')\n",
    "                \n",
    "                driver.close()\n",
    "                pass\n",
    "\n",
    "        return jobs_details\n"
   ]
  },
  {
   "cell_type": "code",
   "execution_count": 15,
   "metadata": {
    "ExecuteTime": {
     "end_time": "2021-10-18T19:40:42.413946Z",
     "start_time": "2021-10-18T18:05:39.927733Z"
    }
   },
   "outputs": [
    {
     "name": "stdout",
     "output_type": "stream",
     "text": [
      "current Keyword: Applied_Mathematics\n",
      "number of jobs found :  8000\n",
      "jobs collected:  166\n",
      "current Keyword: Architecture\n",
      "number of jobs found :  325000\n",
      "jobs collected:  168\n",
      "current Keyword: Art_&_Music_Education\n",
      "number of jobs found :  247000\n",
      "jobs collected:  171\n",
      "current Keyword: History\n",
      "number of jobs found :  345000\n",
      "jobs collected:  165\n",
      "current Keyword: Biological_Engineering\n",
      "number of jobs found :  2000\n",
      "jobs collected:  164\n",
      "current Keyword: Biomedical_Engineering\n",
      "number of jobs found :  7000\n",
      "jobs collected:  161\n",
      "current Keyword: Business_Management_&_Administration\n",
      "number of jobs found :  749000\n",
      "jobs collected:  156\n",
      "current Keyword: Business_Economics\n",
      "number of jobs found :  39000\n",
      "jobs collected:  155\n",
      "current Keyword: Chemical_Engineering\n",
      "number of jobs found :  28000\n",
      "jobs collected:  156\n",
      "current Keyword: Civil_Engineering\n",
      "number of jobs found :  56000\n",
      "jobs collected:  142\n",
      "Done\n"
     ]
    }
   ],
   "source": [
    "# keywords = ['Advertising & Public Relations',\n",
    "#  'Aerospace Engineering',\n",
    "#  'Agriculture',\n",
    "#  'Animal Sciences',\n",
    "#  'Anthropology & Archeology',\n",
    "\n",
    "keywords = [\n",
    " 'Applied Mathematics',\n",
    " 'Architecture',\n",
    " 'Art & Music Education',\n",
    " 'History',\n",
    " 'Biological Engineering',\n",
    " 'Biomedical Engineering',\n",
    " 'Business Management & Administration',\n",
    " 'Business Economics',\n",
    " 'Chemical Engineering',\n",
    " 'Civil Engineering']\n",
    "\n",
    "\n",
    "\n",
    "for keyword in keywords: \n",
    "    obj = collect_jobs_data(keyword,'selenium_p/chromedriver',500)   # keyword, driver path, no of scrolls in the page\n",
    "    time.sleep(5)\n",
    "    job_postings = obj.extract_jobs_postings() #[[all titles], [all descriptions]]\n",
    "    time.sleep(5)\n",
    "    print('jobs collected: ',len(job_postings))\n",
    "    df = pd.DataFrame(job_postings, columns =['job-title','description'])\n",
    "    df.to_csv(f'{keyword}_{len(job_postings)}_records.csv', encoding='utf-8', index=False)\n",
    "print('Done')"
   ]
  },
  {
   "cell_type": "code",
   "execution_count": 42,
   "metadata": {
    "ExecuteTime": {
     "end_time": "2021-10-17T13:21:47.544514Z",
     "start_time": "2021-10-17T13:21:47.513173Z"
    }
   },
   "outputs": [
    {
     "data": {
      "text/html": [
       "<div>\n",
       "<style scoped>\n",
       "    .dataframe tbody tr th:only-of-type {\n",
       "        vertical-align: middle;\n",
       "    }\n",
       "\n",
       "    .dataframe tbody tr th {\n",
       "        vertical-align: top;\n",
       "    }\n",
       "\n",
       "    .dataframe thead th {\n",
       "        text-align: right;\n",
       "    }\n",
       "</style>\n",
       "<table border=\"1\" class=\"dataframe\">\n",
       "  <thead>\n",
       "    <tr style=\"text-align: right;\">\n",
       "      <th></th>\n",
       "      <th>job-title</th>\n",
       "      <th>description</th>\n",
       "    </tr>\n",
       "  </thead>\n",
       "  <tbody>\n",
       "    <tr>\n",
       "      <th>0</th>\n",
       "      <td>SFA - Books Marketing</td>\n",
       "      <td>Job Summary\\n\\nDESCRIPTION\\n\\nThe Books team (...</td>\n",
       "    </tr>\n",
       "    <tr>\n",
       "      <th>1</th>\n",
       "      <td>Sr Manager, Analytics, Insights &amp; Reporting</td>\n",
       "      <td>Job DescriptionPosition Summary\\n\\nNordstrom C...</td>\n",
       "    </tr>\n",
       "    <tr>\n",
       "      <th>2</th>\n",
       "      <td>Data Scientist</td>\n",
       "      <td>As a Data Scientist, you will collaborate with...</td>\n",
       "    </tr>\n",
       "    <tr>\n",
       "      <th>3</th>\n",
       "      <td>After School Teacher</td>\n",
       "      <td>Actual pay may be different — this range is es...</td>\n",
       "    </tr>\n",
       "    <tr>\n",
       "      <th>4</th>\n",
       "      <td>Program Instructor-Mathematics</td>\n",
       "      <td>Location: Sioux Falls, South Dakota Campus\\n\\n...</td>\n",
       "    </tr>\n",
       "  </tbody>\n",
       "</table>\n",
       "</div>"
      ],
      "text/plain": [
       "                                     job-title  \\\n",
       "0                        SFA - Books Marketing   \n",
       "1  Sr Manager, Analytics, Insights & Reporting   \n",
       "2                               Data Scientist   \n",
       "3                         After School Teacher   \n",
       "4               Program Instructor-Mathematics   \n",
       "\n",
       "                                         description  \n",
       "0  Job Summary\\n\\nDESCRIPTION\\n\\nThe Books team (...  \n",
       "1  Job DescriptionPosition Summary\\n\\nNordstrom C...  \n",
       "2  As a Data Scientist, you will collaborate with...  \n",
       "3  Actual pay may be different — this range is es...  \n",
       "4  Location: Sioux Falls, South Dakota Campus\\n\\n...  "
      ]
     },
     "execution_count": 42,
     "metadata": {},
     "output_type": "execute_result"
    }
   ],
   "source": [
    "df.head()"
   ]
  },
  {
   "cell_type": "code",
   "execution_count": 43,
   "metadata": {
    "ExecuteTime": {
     "end_time": "2021-10-17T13:22:02.382853Z",
     "start_time": "2021-10-17T13:22:02.377623Z"
    }
   },
   "outputs": [
    {
     "data": {
      "text/plain": [
       "'SFA - Books Marketing'"
      ]
     },
     "execution_count": 43,
     "metadata": {},
     "output_type": "execute_result"
    }
   ],
   "source": [
    "df['job-title'].iloc[0]"
   ]
  },
  {
   "cell_type": "code",
   "execution_count": 45,
   "metadata": {
    "ExecuteTime": {
     "end_time": "2021-10-17T13:22:22.545122Z",
     "start_time": "2021-10-17T13:22:22.542471Z"
    }
   },
   "outputs": [
    {
     "name": "stdout",
     "output_type": "stream",
     "text": [
      "Job Summary\n",
      "\n",
      "DESCRIPTION\n",
      "\n",
      "The Books team (Books + Kindle Content) is looking for a results-oriented and data-driven professional to lead the finance function for the Books marketing team. This position will work closely alongside a team of world-class marketers through new development initiatives, marketing opportunities, seasonal events strategy and inventing ways to meet new customers and deliver demand acceleration through advertising strategies and onsite CX improvements.\n",
      "\n",
      "The role requires an individual with a passion for books, the ability to dive deep into the data to derive business insights, and strong focus on controllership and efficiency. He or she will work closely with marketing team leadership to provide strategic guidance, as well as overall finance, operational and decision support in this exciting and evolving space. This individual will be a role model for high standards, problem solving, operational discipline, driving business insight/innovation, partnering with cross functional teams, and developing scalable processes. The role demands ambitious individuals with solid analytical skills, the ability to work independently, manage competing priorities in a fast-paced environment, a strong bias for action, superb customer focus, and the ability to communicate with and influence senior business leadership.\n",
      "\n",
      "Lead financial planning and forecasting, including developing and implementing standardized financial reports across multiple businesses.\n",
      "Implement and drive the core financial processes for the business including Annual Operating Plans, Long Term Plans, and Monthly/Quarterly Business Reviews.\n",
      "Develop ad hoc business analysis and present recommendations to senior management on strategic decisions\n",
      "Develop and maintain key weekly financial and operational performance metrics, including creation of KPIs\n",
      "Support FP&A process, headcount tracking and goals tracking. Review existing processes and streamline for efficiency; set up tools and dashboards for leadership with relevant metrics.\n",
      "Conduct ad hoc financial analyses and new project evaluations\n",
      "Lead and participate as the key finance stakeholder in cross functional teams\n",
      "Controllership of monthly financial reporting\n",
      "\n",
      "\n",
      "Basic Qualifications\n",
      "\n",
      "5+ years of finance experience or a related analytical field.\n",
      "BA/BS degree in business, finance, mathmatics, engineering, or a related field\n",
      "10+ years finance leadership with progressively increasing levels of responsibility\n",
      "\n",
      "Preferred Qualifications\n",
      "\n",
      "Excellent analytical skills, a passion for metrics and figures, and the ability to get into the details while also seeing and understanding the big picture\n",
      "Advanced Excel skills\n",
      "Data mining, analysis and financial tools (Cognos, SQL, Python, etc.)\n",
      "Strong communication, including both written and oral\n",
      "Strong leadership and people management skills\n",
      "Superior attention to detail, project management skills and the ability to successfully manage multiple projects simultaneously\n",
      "Experience working in a fast paced environment similar to a high tech start-up\n",
      "MBA\n",
      "\n",
      "Amazon is committed to a diverse and inclusive workplace. Amazon is an equal opportunity employer and does not discriminate on the basis of race, national origin, gender, gender identity, sexual orientation, protected veteran status, disability, age, or other legally protected status. For individuals with disabilities who would like to request an accommodation, please visit https://www.amazon.jobs/en/disability/us.\n",
      "\n",
      "\n",
      "Company - Amazon.com Services LLC\n",
      "\n",
      "Job ID: A1774792\n",
      "Show more \n",
      "Seniority level\n",
      "Not Applicable\n",
      "Employment type\n",
      "Full-time\n",
      "Job function\n",
      "Finance, Information Technology, and Accounting/Auditing\n",
      "Industries\n",
      "Computer Software, Information Technology and Services, and Internet\n"
     ]
    }
   ],
   "source": [
    "print(df['description'].iloc[0])"
   ]
  },
  {
   "cell_type": "code",
   "execution_count": 28,
   "metadata": {
    "ExecuteTime": {
     "end_time": "2021-10-08T20:48:31.077225Z",
     "start_time": "2021-10-08T20:48:31.071747Z"
    }
   },
   "outputs": [],
   "source": []
  },
  {
   "cell_type": "code",
   "execution_count": null,
   "metadata": {
    "ExecuteTime": {
     "end_time": "2021-10-08T20:49:07.778961Z",
     "start_time": "2021-10-08T20:49:07.746300Z"
    }
   },
   "outputs": [],
   "source": []
  },
  {
   "cell_type": "code",
   "execution_count": null,
   "metadata": {
    "ExecuteTime": {
     "end_time": "2021-10-03T18:44:09.567809Z",
     "start_time": "2021-10-03T18:44:09.560723Z"
    }
   },
   "outputs": [],
   "source": []
  },
  {
   "cell_type": "code",
   "execution_count": null,
   "metadata": {
    "ExecuteTime": {
     "end_time": "2021-10-08T20:49:28.318201Z",
     "start_time": "2021-10-08T20:49:28.308360Z"
    }
   },
   "outputs": [],
   "source": []
  },
  {
   "cell_type": "code",
   "execution_count": null,
   "metadata": {
    "ExecuteTime": {
     "end_time": "2021-10-03T18:44:09.897457Z",
     "start_time": "2021-10-03T18:44:09.887095Z"
    }
   },
   "outputs": [],
   "source": []
  },
  {
   "cell_type": "code",
   "execution_count": 1,
   "metadata": {
    "ExecuteTime": {
     "end_time": "2021-10-18T12:14:32.428020Z",
     "start_time": "2021-10-18T12:14:32.419509Z"
    }
   },
   "outputs": [
    {
     "data": {
      "text/plain": [
       "['Advertising & Public Relations',\n",
       " 'Aerospace Engineering',\n",
       " 'Agriculture',\n",
       " 'Animal Sciences',\n",
       " 'Anthropology & Archeology',\n",
       " 'Applied Mathematics',\n",
       " 'Architecture',\n",
       " 'Art & Music Education',\n",
       " 'History',\n",
       " 'Biological Engineering',\n",
       " 'Biomedical Engineering',\n",
       " 'Business Management & Administration',\n",
       " 'Business Economics',\n",
       " 'Chemical Engineering',\n",
       " 'Civil Engineering']"
      ]
     },
     "execution_count": 1,
     "metadata": {},
     "output_type": "execute_result"
    }
   ],
   "source": [
    "t = 'Advertising & Public Relations,Aerospace Engineering,Agriculture,Animal Sciences,Anthropology & Archeology,Applied Mathematics,Architecture,Art & Music Education,History,Biological Engineering,Biomedical Engineering,Business Management & Administration,Business Economics,Chemical Engineering,Civil Engineering'\n",
    "t.split(',')"
   ]
  },
  {
   "cell_type": "code",
   "execution_count": null,
   "metadata": {},
   "outputs": [],
   "source": []
  },
  {
   "cell_type": "code",
   "execution_count": null,
   "metadata": {},
   "outputs": [],
   "source": []
  }
 ],
 "metadata": {
  "hide_input": false,
  "kernelspec": {
   "display_name": "Python 3",
   "language": "python",
   "name": "python3"
  },
  "language_info": {
   "codemirror_mode": {
    "name": "ipython",
    "version": 3
   },
   "file_extension": ".py",
   "mimetype": "text/x-python",
   "name": "python",
   "nbconvert_exporter": "python",
   "pygments_lexer": "ipython3",
   "version": "3.6.9"
  },
  "toc": {
   "base_numbering": 1,
   "nav_menu": {},
   "number_sections": true,
   "sideBar": true,
   "skip_h1_title": false,
   "title_cell": "Table of Contents",
   "title_sidebar": "Contents",
   "toc_cell": false,
   "toc_position": {},
   "toc_section_display": true,
   "toc_window_display": false
  }
 },
 "nbformat": 4,
 "nbformat_minor": 4
}
